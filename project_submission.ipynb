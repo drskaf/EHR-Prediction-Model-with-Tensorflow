{
 "cells": [
  {
   "cell_type": "markdown",
   "metadata": {},
   "source": [
    "# Overview"
   ]
  },
  {
   "cell_type": "markdown",
   "metadata": {},
   "source": [
    "1. Project Instructions & Prerequisites\n",
    "2. Learning Objectives\n",
    "3. Data Preparation\n",
    "4. Create Categorical Features with TF Feature Columns\n",
    "5. Create Continuous/Numerical Features with TF Feature Columns\n",
    "6. Build Deep Learning Regression Model with Sequential API and TF Probability Layers\n",
    "7. Evaluating Potential Model Biases with Aequitas Toolkit\n"
   ]
  },
  {
   "cell_type": "markdown",
   "metadata": {},
   "source": [
    "#  1. Project Instructions & Prerequisites"
   ]
  },
  {
   "cell_type": "markdown",
   "metadata": {},
   "source": [
    "## Project Instructions"
   ]
  },
  {
   "cell_type": "markdown",
   "metadata": {},
   "source": [
    "**Context**: EHR data is becoming a key source of real-world evidence (RWE) for the pharmaceutical industry and regulators to [make decisions on clinical trials](https://www.fda.gov/news-events/speeches-fda-officials/breaking-down-barriers-between-clinical-trials-and-clinical-care-incorporating-real-world-evidence). You are a data scientist for an exciting unicorn healthcare startup that has created a groundbreaking diabetes drug that is ready for clinical trial testing. It is a very unique and sensitive drug that requires administering the drug over at least 5-7 days of time in the hospital with frequent monitoring/testing and patient medication adherence training with a mobile application. You have been provided a patient dataset from a client partner and are tasked with building a predictive model that can identify which type of patients the company should focus their efforts testing this drug on. Target patients are people that are likely to be in the hospital for this duration of time and will not incur significant additional costs for administering this drug to the patient and monitoring.  \n",
    "\n",
    "In order to achieve your goal you must build a regression model that can predict the estimated hospitalization time for a patient and use this to select/filter patients for your study.\n"
   ]
  },
  {
   "cell_type": "markdown",
   "metadata": {},
   "source": [
    "**Expected Hospitalization Time Regression Model:** Utilizing a synthetic dataset(denormalized at the line level augmentation) built off of the UCI Diabetes readmission dataset, students will build a regression model that predicts the expected days of hospitalization time and then convert this to a binary prediction of whether to include or exclude that patient from the clinical trial.\n",
    "\n",
    "This project will demonstrate the importance of building the right data representation at the encounter level, with appropriate filtering and preprocessing/feature engineering of key medical code sets. This project will also require students to analyze and interpret their model for biases across key demographic groups. \n",
    "\n",
    "Please see the project rubric online for more details on the areas your project will be evaluated."
   ]
  },
  {
   "cell_type": "markdown",
   "metadata": {},
   "source": [
    "### Dataset"
   ]
  },
  {
   "cell_type": "markdown",
   "metadata": {},
   "source": [
    "Due to healthcare PHI regulations (HIPAA, HITECH), there are limited number of publicly available datasets and some datasets require training and approval. So, for the purpose of this exercise, we are using a dataset from UC Irvine(https://archive.ics.uci.edu/ml/datasets/Diabetes+130-US+hospitals+for+years+1999-2008) that has been modified for this course. Please note that it is limited in its representation of some key features such as diagnosis codes which are usually an unordered list in 835s/837s (the HL7 standard interchange formats used for claims and remits)."
   ]
  },
  {
   "cell_type": "markdown",
   "metadata": {},
   "source": [
    "**Data Schema**\n",
    "The dataset reference information can be https://github.com/udacity/nd320-c1-emr-data-starter/blob/master/project/data_schema_references/\n",
    ". There are two CSVs that provide more details on the fields and some of the mapped values."
   ]
  },
  {
   "cell_type": "markdown",
   "metadata": {},
   "source": [
    "## Project Submission "
   ]
  },
  {
   "cell_type": "markdown",
   "metadata": {},
   "source": [
    "When submitting this project, make sure to run all the cells before saving the notebook. Save the notebook file as \"student_project_submission.ipynb\" and save another copy as an HTML file by clicking \"File\" -> \"Download as..\"->\"html\". Include the \"utils.py\" and \"student_utils.py\" files in your submission. The student_utils.py should be where you put most of your code that you write and the summary and text explanations should be written inline in the notebook. Once you download these files, compress them into one zip file for submission."
   ]
  },
  {
   "cell_type": "markdown",
   "metadata": {},
   "source": [
    "## Prerequisites "
   ]
  },
  {
   "cell_type": "markdown",
   "metadata": {},
   "source": [
    "- Intermediate level knowledge of Python\n",
    "- Basic knowledge of probability and statistics\n",
    "- Basic knowledge of machine learning concepts\n",
    "- Installation of Tensorflow 2.0 and other dependencies(conda environment.yml or virtualenv requirements.txt file provided)"
   ]
  },
  {
   "cell_type": "markdown",
   "metadata": {},
   "source": [
    "## Environment Setup"
   ]
  },
  {
   "cell_type": "markdown",
   "metadata": {},
   "source": [
    "For step by step instructions on creating your environment, please go to https://github.com/udacity/nd320-c1-emr-data-starter/blob/master/project/README.md."
   ]
  },
  {
   "cell_type": "markdown",
   "metadata": {},
   "source": [
    "# 2.  Learning Objectives"
   ]
  },
  {
   "cell_type": "markdown",
   "metadata": {},
   "source": [
    "By the end of the project, you will be able to \n",
    "   - Use the Tensorflow Dataset API to scalably extract, transform, and load datasets and build datasets aggregated at the line, encounter, and patient data levels(longitudinal)\n",
    "   - Analyze EHR datasets to check for common issues (data leakage, statistical properties, missing values, high cardinality) by performing exploratory data analysis.\n",
    "   - Create categorical features from Key Industry Code Sets (ICD, CPT, NDC) and reduce dimensionality for high cardinality features by using embeddings \n",
    "   - Create derived features(bucketing, cross-features, embeddings) utilizing Tensorflow feature columns on both continuous and categorical input features\n",
    "   - SWBAT use the Tensorflow Probability library to train a model that provides uncertainty range predictions that allow for risk adjustment/prioritization and triaging of predictions\n",
    "   - Analyze and determine biases for a model for key demographic groups by evaluating performance metrics across groups by using the Aequitas framework \n"
   ]
  },
  {
   "cell_type": "markdown",
   "metadata": {},
   "source": [
    "# 3. Data Preparation"
   ]
  },
  {
   "cell_type": "code",
   "execution_count": 1,
   "metadata": {},
   "outputs": [],
   "source": [
    "from __future__ import absolute_import, division, print_function, unicode_literals\n",
    "import os\n",
    "import numpy as np\n",
    "import tensorflow as tf\n",
    "from tensorflow.keras import layers\n",
    "import tensorflow_probability as tfp\n",
    "import matplotlib.pyplot as plt\n",
    "import pandas as pd\n",
    "import aequitas as ae\n",
    "# Put all of the helper functions in utils\n",
    "from utils import build_vocab_files, show_group_stats_viz, aggregate_dataset, preprocess_df, df_to_dataset, posterior_mean_field, prior_trainable\n",
    "pd.set_option('display.max_columns', 500)\n",
    "# this allows you to make changes and save in student_utils.py and the file is reloaded every time you run a code block\n",
    "%load_ext autoreload\n",
    "%autoreload"
   ]
  },
  {
   "cell_type": "code",
   "execution_count": 2,
   "metadata": {},
   "outputs": [],
   "source": [
    "#OPEN ISSUE ON MAC OSX for TF model training\n",
    "import os\n",
    "os.environ['KMP_DUPLICATE_LIB_OK']='True'"
   ]
  },
  {
   "cell_type": "markdown",
   "metadata": {},
   "source": [
    "## Dataset Loading and Schema Review"
   ]
  },
  {
   "cell_type": "markdown",
   "metadata": {},
   "source": [
    "Load the dataset and view a sample of the dataset along with reviewing the schema reference files to gain a deeper understanding of the dataset. The dataset is located at the following path https://github.com/udacity/nd320-c1-emr-data-starter/blob/master/project/starter_code/data/final_project_dataset.csv. Also, review the information found in the data schema https://github.com/udacity/nd320-c1-emr-data-starter/blob/master/project/data_schema_references/"
   ]
  },
  {
   "cell_type": "code",
   "execution_count": 3,
   "metadata": {},
   "outputs": [],
   "source": [
    "dataset_path = \"./data/final_project_dataset.csv\"\n",
    "df = pd.read_csv(dataset_path)"
   ]
  },
  {
   "cell_type": "code",
   "execution_count": 4,
   "metadata": {},
   "outputs": [
    {
     "data": {
      "text/html": [
       "<div>\n",
       "<style scoped>\n",
       "    .dataframe tbody tr th:only-of-type {\n",
       "        vertical-align: middle;\n",
       "    }\n",
       "\n",
       "    .dataframe tbody tr th {\n",
       "        vertical-align: top;\n",
       "    }\n",
       "\n",
       "    .dataframe thead th {\n",
       "        text-align: right;\n",
       "    }\n",
       "</style>\n",
       "<table border=\"1\" class=\"dataframe\">\n",
       "  <thead>\n",
       "    <tr style=\"text-align: right;\">\n",
       "      <th></th>\n",
       "      <th>encounter_id</th>\n",
       "      <th>patient_nbr</th>\n",
       "      <th>race</th>\n",
       "      <th>gender</th>\n",
       "      <th>age</th>\n",
       "      <th>weight</th>\n",
       "      <th>admission_type_id</th>\n",
       "      <th>discharge_disposition_id</th>\n",
       "      <th>admission_source_id</th>\n",
       "      <th>time_in_hospital</th>\n",
       "      <th>payer_code</th>\n",
       "      <th>medical_specialty</th>\n",
       "      <th>primary_diagnosis_code</th>\n",
       "      <th>other_diagnosis_codes</th>\n",
       "      <th>number_outpatient</th>\n",
       "      <th>number_inpatient</th>\n",
       "      <th>number_emergency</th>\n",
       "      <th>num_lab_procedures</th>\n",
       "      <th>number_diagnoses</th>\n",
       "      <th>num_medications</th>\n",
       "      <th>num_procedures</th>\n",
       "      <th>ndc_code</th>\n",
       "      <th>max_glu_serum</th>\n",
       "      <th>A1Cresult</th>\n",
       "      <th>change</th>\n",
       "      <th>readmitted</th>\n",
       "    </tr>\n",
       "  </thead>\n",
       "  <tbody>\n",
       "    <tr>\n",
       "      <th>0</th>\n",
       "      <td>2278392</td>\n",
       "      <td>8222157</td>\n",
       "      <td>Caucasian</td>\n",
       "      <td>Female</td>\n",
       "      <td>[0-10)</td>\n",
       "      <td>?</td>\n",
       "      <td>6</td>\n",
       "      <td>25</td>\n",
       "      <td>1</td>\n",
       "      <td>1</td>\n",
       "      <td>?</td>\n",
       "      <td>Pediatrics-Endocrinology</td>\n",
       "      <td>250.83</td>\n",
       "      <td>?|?</td>\n",
       "      <td>0</td>\n",
       "      <td>0</td>\n",
       "      <td>0</td>\n",
       "      <td>41</td>\n",
       "      <td>1</td>\n",
       "      <td>1</td>\n",
       "      <td>0</td>\n",
       "      <td>NaN</td>\n",
       "      <td>None</td>\n",
       "      <td>None</td>\n",
       "      <td>No</td>\n",
       "      <td>NO</td>\n",
       "    </tr>\n",
       "    <tr>\n",
       "      <th>1</th>\n",
       "      <td>149190</td>\n",
       "      <td>55629189</td>\n",
       "      <td>Caucasian</td>\n",
       "      <td>Female</td>\n",
       "      <td>[10-20)</td>\n",
       "      <td>?</td>\n",
       "      <td>1</td>\n",
       "      <td>1</td>\n",
       "      <td>7</td>\n",
       "      <td>3</td>\n",
       "      <td>?</td>\n",
       "      <td>?</td>\n",
       "      <td>276</td>\n",
       "      <td>250.01|255</td>\n",
       "      <td>0</td>\n",
       "      <td>0</td>\n",
       "      <td>0</td>\n",
       "      <td>59</td>\n",
       "      <td>9</td>\n",
       "      <td>18</td>\n",
       "      <td>0</td>\n",
       "      <td>68071-1701</td>\n",
       "      <td>None</td>\n",
       "      <td>None</td>\n",
       "      <td>Ch</td>\n",
       "      <td>&gt;30</td>\n",
       "    </tr>\n",
       "    <tr>\n",
       "      <th>2</th>\n",
       "      <td>64410</td>\n",
       "      <td>86047875</td>\n",
       "      <td>AfricanAmerican</td>\n",
       "      <td>Female</td>\n",
       "      <td>[20-30)</td>\n",
       "      <td>?</td>\n",
       "      <td>1</td>\n",
       "      <td>1</td>\n",
       "      <td>7</td>\n",
       "      <td>2</td>\n",
       "      <td>?</td>\n",
       "      <td>?</td>\n",
       "      <td>648</td>\n",
       "      <td>250|V27</td>\n",
       "      <td>2</td>\n",
       "      <td>1</td>\n",
       "      <td>0</td>\n",
       "      <td>11</td>\n",
       "      <td>6</td>\n",
       "      <td>13</td>\n",
       "      <td>5</td>\n",
       "      <td>0378-1110</td>\n",
       "      <td>None</td>\n",
       "      <td>None</td>\n",
       "      <td>No</td>\n",
       "      <td>NO</td>\n",
       "    </tr>\n",
       "    <tr>\n",
       "      <th>3</th>\n",
       "      <td>500364</td>\n",
       "      <td>82442376</td>\n",
       "      <td>Caucasian</td>\n",
       "      <td>Male</td>\n",
       "      <td>[30-40)</td>\n",
       "      <td>?</td>\n",
       "      <td>1</td>\n",
       "      <td>1</td>\n",
       "      <td>7</td>\n",
       "      <td>2</td>\n",
       "      <td>?</td>\n",
       "      <td>?</td>\n",
       "      <td>8</td>\n",
       "      <td>250.43|403</td>\n",
       "      <td>0</td>\n",
       "      <td>0</td>\n",
       "      <td>0</td>\n",
       "      <td>44</td>\n",
       "      <td>7</td>\n",
       "      <td>16</td>\n",
       "      <td>1</td>\n",
       "      <td>68071-1701</td>\n",
       "      <td>None</td>\n",
       "      <td>None</td>\n",
       "      <td>Ch</td>\n",
       "      <td>NO</td>\n",
       "    </tr>\n",
       "    <tr>\n",
       "      <th>4</th>\n",
       "      <td>16680</td>\n",
       "      <td>42519267</td>\n",
       "      <td>Caucasian</td>\n",
       "      <td>Male</td>\n",
       "      <td>[40-50)</td>\n",
       "      <td>?</td>\n",
       "      <td>1</td>\n",
       "      <td>1</td>\n",
       "      <td>7</td>\n",
       "      <td>1</td>\n",
       "      <td>?</td>\n",
       "      <td>?</td>\n",
       "      <td>197</td>\n",
       "      <td>157|250</td>\n",
       "      <td>0</td>\n",
       "      <td>0</td>\n",
       "      <td>0</td>\n",
       "      <td>51</td>\n",
       "      <td>5</td>\n",
       "      <td>8</td>\n",
       "      <td>0</td>\n",
       "      <td>0049-4110</td>\n",
       "      <td>None</td>\n",
       "      <td>None</td>\n",
       "      <td>Ch</td>\n",
       "      <td>NO</td>\n",
       "    </tr>\n",
       "  </tbody>\n",
       "</table>\n",
       "</div>"
      ],
      "text/plain": [
       "   encounter_id  patient_nbr             race  gender      age weight  \\\n",
       "0       2278392      8222157        Caucasian  Female   [0-10)      ?   \n",
       "1        149190     55629189        Caucasian  Female  [10-20)      ?   \n",
       "2         64410     86047875  AfricanAmerican  Female  [20-30)      ?   \n",
       "3        500364     82442376        Caucasian    Male  [30-40)      ?   \n",
       "4         16680     42519267        Caucasian    Male  [40-50)      ?   \n",
       "\n",
       "   admission_type_id  discharge_disposition_id  admission_source_id  \\\n",
       "0                  6                        25                    1   \n",
       "1                  1                         1                    7   \n",
       "2                  1                         1                    7   \n",
       "3                  1                         1                    7   \n",
       "4                  1                         1                    7   \n",
       "\n",
       "   time_in_hospital payer_code         medical_specialty  \\\n",
       "0                 1          ?  Pediatrics-Endocrinology   \n",
       "1                 3          ?                         ?   \n",
       "2                 2          ?                         ?   \n",
       "3                 2          ?                         ?   \n",
       "4                 1          ?                         ?   \n",
       "\n",
       "  primary_diagnosis_code other_diagnosis_codes  number_outpatient  \\\n",
       "0                 250.83                   ?|?                  0   \n",
       "1                    276            250.01|255                  0   \n",
       "2                    648               250|V27                  2   \n",
       "3                      8            250.43|403                  0   \n",
       "4                    197               157|250                  0   \n",
       "\n",
       "   number_inpatient  number_emergency  num_lab_procedures  number_diagnoses  \\\n",
       "0                 0                 0                  41                 1   \n",
       "1                 0                 0                  59                 9   \n",
       "2                 1                 0                  11                 6   \n",
       "3                 0                 0                  44                 7   \n",
       "4                 0                 0                  51                 5   \n",
       "\n",
       "   num_medications  num_procedures    ndc_code max_glu_serum A1Cresult change  \\\n",
       "0                1               0         NaN          None      None     No   \n",
       "1               18               0  68071-1701          None      None     Ch   \n",
       "2               13               5   0378-1110          None      None     No   \n",
       "3               16               1  68071-1701          None      None     Ch   \n",
       "4                8               0   0049-4110          None      None     Ch   \n",
       "\n",
       "  readmitted  \n",
       "0         NO  \n",
       "1        >30  \n",
       "2         NO  \n",
       "3         NO  \n",
       "4         NO  "
      ]
     },
     "execution_count": 4,
     "metadata": {},
     "output_type": "execute_result"
    }
   ],
   "source": [
    "df.head()"
   ]
  },
  {
   "cell_type": "code",
   "execution_count": 6,
   "metadata": {},
   "outputs": [
    {
     "data": {
      "text/plain": [
       "143424"
      ]
     },
     "execution_count": 6,
     "metadata": {},
     "output_type": "execute_result"
    }
   ],
   "source": [
    "len(df)"
   ]
  },
  {
   "cell_type": "markdown",
   "metadata": {},
   "source": [
    "## Determine Level of Dataset (Line or Encounter)"
   ]
  },
  {
   "cell_type": "markdown",
   "metadata": {},
   "source": [
    "**Question 1**: Based off of analysis of the data, what level is this dataset? Is it at the line or encounter level? Are there any key fields besides the encounter_id and patient_nbr fields that we should use to aggregate on? Knowing this information will help inform us what level of aggregation is necessary for future steps and is a step that is often overlooked. "
   ]
  },
  {
   "cell_type": "markdown",
   "metadata": {},
   "source": [
    "Student Response:??"
   ]
  },
  {
   "cell_type": "code",
   "execution_count": 7,
   "metadata": {},
   "outputs": [
    {
     "name": "stdout",
     "output_type": "stream",
     "text": [
      "Dataset could be at the line level\n"
     ]
    }
   ],
   "source": [
    "# Line Test\n",
    "try:\n",
    "    assert len(df) > df['encounter_id'].nunique() \n",
    "    print(\"Dataset could be at the line level\")\n",
    "except:\n",
    "    print(\"Dataset is not at the line level\")"
   ]
  },
  {
   "cell_type": "code",
   "execution_count": 8,
   "metadata": {},
   "outputs": [
    {
     "name": "stdout",
     "output_type": "stream",
     "text": [
      "Dataset is not at the encounter level\n"
     ]
    }
   ],
   "source": [
    "# Encounter Test\n",
    "try:\n",
    "    assert len(df) == df['encounter_id'].nunique()\n",
    "    print(\"Dataset could be at the encounter level\")\n",
    "except:\n",
    "    print(\"Dataset is not at the encounter level\")"
   ]
  },
  {
   "cell_type": "code",
   "execution_count": null,
   "metadata": {},
   "outputs": [],
   "source": [
    " # Answer: Dataset is at the line level."
   ]
  },
  {
   "cell_type": "code",
   "execution_count": 9,
   "metadata": {},
   "outputs": [
    {
     "data": {
      "text/plain": [
       "encounter_id                101766\n",
       "patient_nbr                  71518\n",
       "race                             6\n",
       "gender                           3\n",
       "age                             10\n",
       "weight                          10\n",
       "admission_type_id                8\n",
       "discharge_disposition_id        26\n",
       "admission_source_id             17\n",
       "time_in_hospital                14\n",
       "payer_code                      18\n",
       "medical_specialty               73\n",
       "primary_diagnosis_code         717\n",
       "other_diagnosis_codes        19374\n",
       "number_outpatient               39\n",
       "number_inpatient                21\n",
       "number_emergency                33\n",
       "num_lab_procedures             118\n",
       "number_diagnoses                16\n",
       "num_medications                 75\n",
       "num_procedures                   7\n",
       "ndc_code                       251\n",
       "max_glu_serum                    4\n",
       "A1Cresult                        4\n",
       "change                           2\n",
       "readmitted                       3\n",
       "dtype: int64"
      ]
     },
     "execution_count": 9,
     "metadata": {},
     "output_type": "execute_result"
    }
   ],
   "source": [
    "df.nunique()"
   ]
  },
  {
   "cell_type": "markdown",
   "metadata": {},
   "source": [
    "The other field for aggregation could be 'other_diagnosis_codes', but this has to be combined with 'primary_diagnosis_code' to be meaningful."
   ]
  },
  {
   "cell_type": "markdown",
   "metadata": {},
   "source": [
    "## Analyze Dataset"
   ]
  },
  {
   "cell_type": "markdown",
   "metadata": {},
   "source": [
    "**Question 2**: Utilizing the library of your choice (recommend Pandas and Seaborn or matplotlib though), perform exploratory data analysis on the dataset. In particular be sure to address the following questions:  \n",
    "    - a. Field(s) with high amount of missing/zero values\n",
    "    - b. Based off the frequency histogram for each numerical field, which numerical field(s) has/have a Gaussian(normal) distribution shape?\n",
    "    - c. Which field(s) have high cardinality and why (HINT: ndc_code is one feature)\n",
    "    - d. Please describe the demographic distributions in the dataset for the age and gender fields.\n",
    "    \n"
   ]
  },
  {
   "cell_type": "markdown",
   "metadata": {},
   "source": [
    "**OPTIONAL**: Use the Tensorflow Data Validation and Analysis library to complete. \n",
    "- The Tensorflow Data Validation and Analysis library(https://www.tensorflow.org/tfx/data_validation/get_started) is a useful tool for analyzing and summarizing dataset statistics. It is especially useful because it can scale to large datasets that do not fit into memory. \n",
    "- Note that there are some bugs that are still being resolved with Chrome v80 and we have moved away from using this for the project. "
   ]
  },
  {
   "cell_type": "markdown",
   "metadata": {},
   "source": [
    "**Student Response**: ??"
   ]
  },
  {
   "cell_type": "code",
   "execution_count": 10,
   "metadata": {},
   "outputs": [
    {
     "data": {
      "text/plain": [
       "encounter_id                     0\n",
       "patient_nbr                      0\n",
       "race                          3309\n",
       "gender                           0\n",
       "age                              0\n",
       "weight                      139122\n",
       "admission_type_id                0\n",
       "discharge_disposition_id         0\n",
       "admission_source_id              0\n",
       "time_in_hospital                 0\n",
       "payer_code                   54190\n",
       "medical_specialty            69463\n",
       "primary_diagnosis_code          33\n",
       "other_diagnosis_codes            0\n",
       "number_outpatient                0\n",
       "number_inpatient                 0\n",
       "number_emergency                 0\n",
       "num_lab_procedures               0\n",
       "number_diagnoses                 0\n",
       "num_medications                  0\n",
       "num_procedures                   0\n",
       "ndc_code                     23462\n",
       "max_glu_serum                    0\n",
       "A1Cresult                        0\n",
       "change                           0\n",
       "readmitted                       0\n",
       "dtype: int64"
      ]
     },
     "execution_count": 10,
     "metadata": {},
     "output_type": "execute_result"
    }
   ],
   "source": [
    "# Answer: a. Fields with high amount of missing/zero values. Checking overall na/null values and adding \"?\" as na value\n",
    "df = pd.read_csv(dataset_path, na_values = \"?\")\n",
    "df.isna().sum()"
   ]
  },
  {
   "cell_type": "code",
   "execution_count": 12,
   "metadata": {},
   "outputs": [
    {
     "name": "stdout",
     "output_type": "stream",
     "text": [
      "Defaulting to user installation because normal site-packages is not writeable\n",
      "Requirement already satisfied: apache-beam[interactive] in /opt/conda/lib/python3.7/site-packages (2.19.0)\n",
      "Requirement already satisfied: fastavro<0.22,>=0.21.4 in /opt/conda/lib/python3.7/site-packages (from apache-beam[interactive]) (0.21.24)\n",
      "Requirement already satisfied: python-dateutil<3,>=2.8.0 in /opt/conda/lib/python3.7/site-packages (from apache-beam[interactive]) (2.8.1)\n",
      "Requirement already satisfied: dill<0.3.2,>=0.3.1.1 in /opt/conda/lib/python3.7/site-packages (from apache-beam[interactive]) (0.3.1.1)\n",
      "Requirement already satisfied: numpy<2,>=1.14.3 in /opt/conda/lib/python3.7/site-packages (from apache-beam[interactive]) (1.18.1)\n",
      "Requirement already satisfied: pymongo<4.0.0,>=3.8.0 in /opt/conda/lib/python3.7/site-packages (from apache-beam[interactive]) (3.10.1)\n",
      "Requirement already satisfied: avro-python3<2.0.0,>=1.8.1; python_version >= \"3.0\" in /opt/conda/lib/python3.7/site-packages (from apache-beam[interactive]) (1.9.1)\n",
      "Requirement already satisfied: grpcio<2,>=1.12.1 in /opt/conda/lib/python3.7/site-packages (from apache-beam[interactive]) (1.27.2)\n",
      "Requirement already satisfied: typing-extensions<3.8.0,>=3.7.0; python_version < \"3.8.0\" in /opt/conda/lib/python3.7/site-packages (from apache-beam[interactive]) (3.7.4.1)\n",
      "Requirement already satisfied: mock<3.0.0,>=1.0.1 in /opt/conda/lib/python3.7/site-packages (from apache-beam[interactive]) (2.0.0)\n",
      "Requirement already satisfied: protobuf<4,>=3.5.0.post1 in /opt/conda/lib/python3.7/site-packages (from apache-beam[interactive]) (3.11.4)\n",
      "Requirement already satisfied: future<1.0.0,>=0.16.0 in /opt/conda/lib/python3.7/site-packages (from apache-beam[interactive]) (0.18.2)\n",
      "Requirement already satisfied: typing<3.8.0,>=3.7.0; python_version < \"3.8.0\" in /opt/conda/lib/python3.7/site-packages (from apache-beam[interactive]) (3.7.4.1)\n",
      "Requirement already satisfied: crcmod<2.0,>=1.7 in /opt/conda/lib/python3.7/site-packages (from apache-beam[interactive]) (1.7)\n",
      "Requirement already satisfied: httplib2<=0.12.0,>=0.8 in /opt/conda/lib/python3.7/site-packages (from apache-beam[interactive]) (0.12.0)\n",
      "Requirement already satisfied: oauth2client<4,>=2.0.1 in /opt/conda/lib/python3.7/site-packages (from apache-beam[interactive]) (3.0.0)\n",
      "Requirement already satisfied: hdfs<3.0.0,>=2.1.0 in /opt/conda/lib/python3.7/site-packages (from apache-beam[interactive]) (2.5.8)\n",
      "Requirement already satisfied: pytz>=2018.3 in /opt/conda/lib/python3.7/site-packages (from apache-beam[interactive]) (2019.3)\n",
      "Collecting pyarrow<0.16.0,>=0.15.1; python_version >= \"3.0\" or platform_system != \"Windows\"\n",
      "  Downloading pyarrow-0.15.1-cp37-cp37m-manylinux2010_x86_64.whl (59.2 MB)\n",
      "\u001b[K     |████████████████████████████████| 59.2 MB 121 kB/s  eta 0:00:01   |▊                               | 1.3 MB 4.6 MB/s eta 0:00:13     |█▌                              | 2.8 MB 4.6 MB/s eta 0:00:13     |██▉                             | 5.1 MB 4.6 MB/s eta 0:00:12     |███▋                            | 6.6 MB 4.6 MB/s eta 0:00:12     |███████████▋                    | 21.5 MB 28.4 MB/s eta 0:00:02     |█████████████                   | 23.9 MB 28.4 MB/s eta 0:00:02     |█████████████▊                  | 25.4 MB 28.4 MB/s eta 0:00:02     |██████████████▏                 | 26.2 MB 28.4 MB/s eta 0:00:02     |████████████████▎               | 30.2 MB 10.8 MB/s eta 0:00:03     |████████████████▊               | 30.9 MB 10.8 MB/s eta 0:00:03     |██████████████████▊             | 34.7 MB 10.8 MB/s eta 0:00:03     |████████████████████            | 36.9 MB 10.8 MB/s eta 0:00:03     |████████████████████▎           | 37.5 MB 10.8 MB/s eta 0:00:03     |█████████████████████▌          | 39.8 MB 10.8 MB/s eta 0:00:02     |██████████████████████          | 40.5 MB 10.8 MB/s eta 0:00:02     |████████████████████████▊       | 45.6 MB 33.8 MB/s eta 0:00:01     |█████████████████████████       | 46.4 MB 33.8 MB/s eta 0:00:01     |██████████████████████████▋     | 49.3 MB 33.8 MB/s eta 0:00:01     |███████████████████████████     | 50.0 MB 33.8 MB/s eta 0:00:01     |████████████████████████████▊   | 53.1 MB 33.8 MB/s eta 0:00:01     |██████████████████████████████▋ | 56.6 MB 13.1 MB/s eta 0:00:01     |███████████████████████████████▍| 58.1 MB 13.1 MB/s eta 0:00:01\n",
      "\u001b[?25hRequirement already satisfied: pydot<2,>=1.2.0 in /opt/conda/lib/python3.7/site-packages (from apache-beam[interactive]) (1.4.1)\n",
      "Collecting ipython<6,>=5.8.0; extra == \"interactive\"\n",
      "  Downloading ipython-5.10.0-py3-none-any.whl (760 kB)\n",
      "\u001b[K     |████████████████████████████████| 760 kB 14.7 MB/s eta 0:00:01\n",
      "\u001b[?25hCollecting jsons<2,>=1.0.0; python_version >= \"3.5.3\" and extra == \"interactive\"\n",
      "  Downloading jsons-1.4.2-py3-none-any.whl (58 kB)\n",
      "\u001b[K     |████████████████████████████████| 58 kB 5.7 MB/s  eta 0:00:01\n",
      "\u001b[?25hCollecting timeloop<2,>=1.0.2; extra == \"interactive\"\n",
      "  Downloading timeloop-1.0.2.tar.gz (2.9 kB)\n",
      "Collecting facets-overview<2,>=1.0.0; extra == \"interactive\"\n",
      "  Downloading facets_overview-1.0.0-py2.py3-none-any.whl (24 kB)\n",
      "Requirement already satisfied: six>=1.5 in /opt/conda/lib/python3.7/site-packages (from python-dateutil<3,>=2.8.0->apache-beam[interactive]) (1.14.0)\n",
      "Requirement already satisfied: pbr>=0.11 in /opt/conda/lib/python3.7/site-packages (from mock<3.0.0,>=1.0.1->apache-beam[interactive]) (5.4.4)\n",
      "Requirement already satisfied: setuptools in /opt/conda/lib/python3.7/site-packages (from protobuf<4,>=3.5.0.post1->apache-beam[interactive]) (45.2.0.post20200209)\n",
      "Requirement already satisfied: pyasn1>=0.1.7 in /opt/conda/lib/python3.7/site-packages (from oauth2client<4,>=2.0.1->apache-beam[interactive]) (0.4.8)\n",
      "Requirement already satisfied: pyasn1-modules>=0.0.5 in /opt/conda/lib/python3.7/site-packages (from oauth2client<4,>=2.0.1->apache-beam[interactive]) (0.2.7)\n",
      "Requirement already satisfied: rsa>=3.1.4 in /opt/conda/lib/python3.7/site-packages (from oauth2client<4,>=2.0.1->apache-beam[interactive]) (4.0)\n",
      "Requirement already satisfied: docopt in /opt/conda/lib/python3.7/site-packages (from hdfs<3.0.0,>=2.1.0->apache-beam[interactive]) (0.6.2)\n",
      "Requirement already satisfied: requests>=2.7.0 in /opt/conda/lib/python3.7/site-packages (from hdfs<3.0.0,>=2.1.0->apache-beam[interactive]) (2.23.0)\n",
      "Requirement already satisfied: pyparsing>=2.1.4 in /opt/conda/lib/python3.7/site-packages (from pydot<2,>=1.2.0->apache-beam[interactive]) (2.4.6)\n",
      "Collecting prompt-toolkit<2.0.0,>=1.0.4\n",
      "  Downloading prompt_toolkit-1.0.18-py3-none-any.whl (245 kB)\n",
      "\u001b[K     |████████████████████████████████| 245 kB 7.6 MB/s eta 0:00:01\n",
      "\u001b[?25hRequirement already satisfied: traitlets>=4.2 in /opt/conda/lib/python3.7/site-packages (from ipython<6,>=5.8.0; extra == \"interactive\"->apache-beam[interactive]) (4.3.3)\n",
      "Requirement already satisfied: pygments<2.6 in /opt/conda/lib/python3.7/site-packages (from ipython<6,>=5.8.0; extra == \"interactive\"->apache-beam[interactive]) (2.5.2)\n",
      "Requirement already satisfied: pexpect; sys_platform != \"win32\" in /opt/conda/lib/python3.7/site-packages (from ipython<6,>=5.8.0; extra == \"interactive\"->apache-beam[interactive]) (4.8.0)\n",
      "Requirement already satisfied: decorator in /opt/conda/lib/python3.7/site-packages (from ipython<6,>=5.8.0; extra == \"interactive\"->apache-beam[interactive]) (4.4.2)\n",
      "Requirement already satisfied: pickleshare in /opt/conda/lib/python3.7/site-packages (from ipython<6,>=5.8.0; extra == \"interactive\"->apache-beam[interactive]) (0.7.5)\n",
      "Collecting simplegeneric>0.8\n",
      "  Downloading simplegeneric-0.8.1.zip (12 kB)\n",
      "Collecting typish>=1.9.2\n",
      "  Downloading typish-1.9.2-py3-none-any.whl (45 kB)\n",
      "\u001b[K     |████████████████████████████████| 45 kB 2.2 MB/s  eta 0:00:01\n",
      "\u001b[?25hRequirement already satisfied: pandas>=0.22.0 in /opt/conda/lib/python3.7/site-packages (from facets-overview<2,>=1.0.0; extra == \"interactive\"->apache-beam[interactive]) (1.0.1)\n",
      "Requirement already satisfied: urllib3!=1.25.0,!=1.25.1,<1.26,>=1.21.1 in /opt/conda/lib/python3.7/site-packages (from requests>=2.7.0->hdfs<3.0.0,>=2.1.0->apache-beam[interactive]) (1.25.7)\n",
      "Requirement already satisfied: idna<3,>=2.5 in /opt/conda/lib/python3.7/site-packages (from requests>=2.7.0->hdfs<3.0.0,>=2.1.0->apache-beam[interactive]) (2.9)\n",
      "Requirement already satisfied: chardet<4,>=3.0.2 in /opt/conda/lib/python3.7/site-packages (from requests>=2.7.0->hdfs<3.0.0,>=2.1.0->apache-beam[interactive]) (3.0.4)\n",
      "Requirement already satisfied: certifi>=2017.4.17 in /opt/conda/lib/python3.7/site-packages (from requests>=2.7.0->hdfs<3.0.0,>=2.1.0->apache-beam[interactive]) (2019.11.28)\n",
      "Requirement already satisfied: wcwidth in /opt/conda/lib/python3.7/site-packages (from prompt-toolkit<2.0.0,>=1.0.4->ipython<6,>=5.8.0; extra == \"interactive\"->apache-beam[interactive]) (0.1.8)\n",
      "Requirement already satisfied: ipython-genutils in /opt/conda/lib/python3.7/site-packages (from traitlets>=4.2->ipython<6,>=5.8.0; extra == \"interactive\"->apache-beam[interactive]) (0.2.0)\n",
      "Requirement already satisfied: ptyprocess>=0.5 in /opt/conda/lib/python3.7/site-packages (from pexpect; sys_platform != \"win32\"->ipython<6,>=5.8.0; extra == \"interactive\"->apache-beam[interactive]) (0.6.0)\n",
      "Building wheels for collected packages: timeloop, simplegeneric\n",
      "  Building wheel for timeloop (setup.py) ... \u001b[?25ldone\n",
      "\u001b[?25h  Created wheel for timeloop: filename=timeloop-1.0.2-py3-none-any.whl size=3722 sha256=df17c2909a57b11090a2ca9842fd4cb0b45a257e4ed1416806e599c354ed9ef0\n",
      "  Stored in directory: /root/.cache/pip/wheels/3a/7e/fc/5e4d6da12b9ab6550604412936723ec6f2faf7391dd6726a01\n",
      "  Building wheel for simplegeneric (setup.py) ... \u001b[?25ldone\n",
      "\u001b[?25h  Created wheel for simplegeneric: filename=simplegeneric-0.8.1-py3-none-any.whl size=5073 sha256=08f076ff9f228aedca708e9cf5a78da64a42b2cd14e98abc8cf29a64be3a2c5a\n",
      "  Stored in directory: /root/.cache/pip/wheels/90/de/df/f1324f4dd966636ab877b82d467acad38a0998b1c42ddb7288\n",
      "Successfully built timeloop simplegeneric\n",
      "\u001b[31mERROR: tfx-bsl 0.21.3 has requirement absl-py<0.9,>=0.7, but you'll have absl-py 0.9.0 which is incompatible.\u001b[0m\n",
      "\u001b[31mERROR: tfx-bsl 0.21.3 has requirement apache-beam[gcp]<2.18,>=2.17, but you'll have apache-beam 2.19.0 which is incompatible.\u001b[0m\n",
      "\u001b[31mERROR: tensorflow-transform 0.21.0 has requirement absl-py<0.9,>=0.7, but you'll have absl-py 0.9.0 which is incompatible.\u001b[0m\n",
      "\u001b[31mERROR: tensorflow-data-validation 0.21.2 has requirement absl-py<0.9,>=0.7, but you'll have absl-py 0.9.0 which is incompatible.\u001b[0m\n",
      "\u001b[31mERROR: tensorflow-data-validation 0.21.2 has requirement pandas<1,>=0.24, but you'll have pandas 1.0.1 which is incompatible.\u001b[0m\n",
      "\u001b[31mERROR: tensorflow-data-validation 0.21.2 has requirement scikit-learn<0.22,>=0.18, but you'll have scikit-learn 0.22.2.post1 which is incompatible.\u001b[0m\n",
      "Installing collected packages: pyarrow, prompt-toolkit, simplegeneric, ipython, typish, jsons, timeloop, facets-overview\n",
      "\u001b[33m  WARNING: The script plasma_store is installed in '/root/.local/bin' which is not on PATH.\n",
      "  Consider adding this directory to PATH or, if you prefer to suppress this warning, use --no-warn-script-location.\u001b[0m\n",
      "\u001b[33m  WARNING: The scripts iptest, iptest3, ipython and ipython3 are installed in '/root/.local/bin' which is not on PATH.\n",
      "  Consider adding this directory to PATH or, if you prefer to suppress this warning, use --no-warn-script-location.\u001b[0m\n",
      "Successfully installed facets-overview-1.0.0 ipython-5.10.0 jsons-1.4.2 prompt-toolkit-1.0.18 pyarrow-0.15.1 simplegeneric-0.8.1 timeloop-1.0.2 typish-1.9.2\n",
      "Note: you may need to restart the kernel to use updated packages.\n"
     ]
    }
   ],
   "source": [
    "%pip install apache-beam[interactive]"
   ]
  },
  {
   "cell_type": "code",
   "execution_count": 5,
   "metadata": {},
   "outputs": [],
   "source": [
    "import tensorflow_data_validation as tfdv"
   ]
  },
  {
   "cell_type": "code",
   "execution_count": 6,
   "metadata": {
    "scrolled": true
   },
   "outputs": [
    {
     "name": "stderr",
     "output_type": "stream",
     "text": [
      "/opt/conda/lib/python3.7/site-packages/tensorflow_data_validation/arrow/arrow_util.py:236: FutureWarning: Calling .data on ChunkedArray is provided for compatibility after Column was removed, simply drop this attribute\n",
      "  types.FeaturePath([column_name]), column.data.chunk(0), weights):\n",
      "WARNING:apache_beam.io.tfrecordio:Couldn't find python-snappy so the implementation of _TFRecordUtil._masked_crc32c is not as fast as it could be.\n"
     ]
    },
    {
     "name": "stdout",
     "output_type": "stream",
     "text": [
      "WARNING:tensorflow:From /opt/conda/lib/python3.7/site-packages/tensorflow_data_validation/utils/stats_gen_lib.py:366: tf_record_iterator (from tensorflow.python.lib.io.tf_record) is deprecated and will be removed in a future version.\n",
      "Instructions for updating:\n",
      "Use eager execution and: \n",
      "`tf.data.TFRecordDataset(path)`\n"
     ]
    },
    {
     "name": "stderr",
     "output_type": "stream",
     "text": [
      "WARNING:tensorflow:From /opt/conda/lib/python3.7/site-packages/tensorflow_data_validation/utils/stats_gen_lib.py:366: tf_record_iterator (from tensorflow.python.lib.io.tf_record) is deprecated and will be removed in a future version.\n",
      "Instructions for updating:\n",
      "Use eager execution and: \n",
      "`tf.data.TFRecordDataset(path)`\n"
     ]
    },
    {
     "data": {
      "text/html": [
       "<iframe id='facets-iframe' width=\"100%\" height=\"500px\"></iframe>\n",
       "        <script>\n",
       "        facets_iframe = document.getElementById('facets-iframe');\n",
       "        facets_html = '<script src=\"https://cdnjs.cloudflare.com/ajax/libs/webcomponentsjs/1.3.3/webcomponents-lite.js\"><\\/script><link rel=\"import\" href=\"https://raw.githubusercontent.com/PAIR-code/facets/master/facets-dist/facets-jupyter.html\"><facets-overview proto-input=\"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\"></facets-overview>';\n",
       "        facets_iframe.srcdoc = facets_html;\n",
       "         facets_iframe.id = \"\";\n",
       "         setTimeout(() => {\n",
       "           facets_iframe.setAttribute('height', facets_iframe.contentWindow.document.body.offsetHeight + 'px')\n",
       "         }, 1500)\n",
       "         </script>"
      ],
      "text/plain": [
       "<IPython.core.display.HTML object>"
      ]
     },
     "metadata": {},
     "output_type": "display_data"
    }
   ],
   "source": [
    "######NOTE: The visualization will only display in Chrome browser. ########\n",
    "full_data_stats = tfdv.generate_statistics_from_csv(data_location='./data/final_project_dataset.csv') \n",
    "tfdv.visualize_statistics(full_data_stats)"
   ]
  },
  {
   "cell_type": "code",
   "execution_count": null,
   "metadata": {},
   "outputs": [],
   "source": [
    "# Answer: b. Gaussian distribution in numerical features is present in: 'encounter_id', 'num_lab_procedures', and 'num_medications'"
   ]
  },
  {
   "cell_type": "code",
   "execution_count": null,
   "metadata": {},
   "outputs": [],
   "source": [
    "# Answer: c. Fields with high cardinality (considered with >100 unique values) are: 'primary_diagnosis_code' with 717 unique values, 'other_diagnosis_codes' with 19374 unique values, 'num_lab_procedures' with 118 unique values, and 'ndc_code' with 251 unique values"
   ]
  },
  {
   "cell_type": "code",
   "execution_count": null,
   "metadata": {},
   "outputs": [],
   "source": [
    "# Answer: d. Gender demographic distribution shows two genders with more females than males. Age demographics show positively skewed distribution towards older age groups. "
   ]
  },
  {
   "cell_type": "markdown",
   "metadata": {},
   "source": [
    "## Reduce Dimensionality of the NDC Code Feature"
   ]
  },
  {
   "cell_type": "markdown",
   "metadata": {},
   "source": [
    "**Question 3**: NDC codes are a common format to represent the wide variety of drugs that are prescribed for patient care in the United States. The challenge is that there are many codes that map to the same or similar drug. You are provided with the ndc drug lookup file https://github.com/udacity/nd320-c1-emr-data-starter/blob/master/project/data_schema_references/ndc_lookup_table.csv derived from the National Drug Codes List site(https://ndclist.com/). Please use this file to come up with a way to reduce the dimensionality of this field and create a new field in the dataset called \"generic_drug_name\" in the output dataframe. "
   ]
  },
  {
   "cell_type": "code",
   "execution_count": 5,
   "metadata": {},
   "outputs": [],
   "source": [
    "#NDC code lookup file\n",
    "ndc_code_path = \"./medication_lookup_tables/final_ndc_lookup_table\"\n",
    "ndc_code_df = pd.read_csv(ndc_code_path) "
   ]
  },
  {
   "cell_type": "code",
   "execution_count": 8,
   "metadata": {},
   "outputs": [
    {
     "data": {
      "text/html": [
       "<div>\n",
       "<style scoped>\n",
       "    .dataframe tbody tr th:only-of-type {\n",
       "        vertical-align: middle;\n",
       "    }\n",
       "\n",
       "    .dataframe tbody tr th {\n",
       "        vertical-align: top;\n",
       "    }\n",
       "\n",
       "    .dataframe thead th {\n",
       "        text-align: right;\n",
       "    }\n",
       "</style>\n",
       "<table border=\"1\" class=\"dataframe\">\n",
       "  <thead>\n",
       "    <tr style=\"text-align: right;\">\n",
       "      <th></th>\n",
       "      <th>NDC_Code</th>\n",
       "      <th>Proprietary Name</th>\n",
       "      <th>Non-proprietary Name</th>\n",
       "      <th>Dosage Form</th>\n",
       "      <th>Route Name</th>\n",
       "      <th>Company Name</th>\n",
       "      <th>Product Type</th>\n",
       "    </tr>\n",
       "  </thead>\n",
       "  <tbody>\n",
       "    <tr>\n",
       "      <th>0</th>\n",
       "      <td>0087-6060</td>\n",
       "      <td>Glucophage</td>\n",
       "      <td>Metformin Hydrochloride</td>\n",
       "      <td>Tablet, Film Coated</td>\n",
       "      <td>Oral</td>\n",
       "      <td>Bristol-myers Squibb Company</td>\n",
       "      <td>Human Prescription Drug</td>\n",
       "    </tr>\n",
       "    <tr>\n",
       "      <th>1</th>\n",
       "      <td>0087-6063</td>\n",
       "      <td>Glucophage XR</td>\n",
       "      <td>Metformin Hydrochloride</td>\n",
       "      <td>Tablet, Extended Release</td>\n",
       "      <td>Oral</td>\n",
       "      <td>Bristol-myers Squibb Company</td>\n",
       "      <td>Human Prescription Drug</td>\n",
       "    </tr>\n",
       "    <tr>\n",
       "      <th>2</th>\n",
       "      <td>0087-6064</td>\n",
       "      <td>Glucophage XR</td>\n",
       "      <td>Metformin Hydrochloride</td>\n",
       "      <td>Tablet, Extended Release</td>\n",
       "      <td>Oral</td>\n",
       "      <td>Bristol-myers Squibb Company</td>\n",
       "      <td>Human Prescription Drug</td>\n",
       "    </tr>\n",
       "    <tr>\n",
       "      <th>3</th>\n",
       "      <td>0087-6070</td>\n",
       "      <td>Glucophage</td>\n",
       "      <td>Metformin Hydrochloride</td>\n",
       "      <td>Tablet, Film Coated</td>\n",
       "      <td>Oral</td>\n",
       "      <td>Bristol-myers Squibb Company</td>\n",
       "      <td>Human Prescription Drug</td>\n",
       "    </tr>\n",
       "    <tr>\n",
       "      <th>4</th>\n",
       "      <td>0087-6071</td>\n",
       "      <td>Glucophage</td>\n",
       "      <td>Metformin Hydrochloride</td>\n",
       "      <td>Tablet, Film Coated</td>\n",
       "      <td>Oral</td>\n",
       "      <td>Bristol-myers Squibb Company</td>\n",
       "      <td>Human Prescription Drug</td>\n",
       "    </tr>\n",
       "  </tbody>\n",
       "</table>\n",
       "</div>"
      ],
      "text/plain": [
       "    NDC_Code Proprietary Name     Non-proprietary Name  \\\n",
       "0  0087-6060       Glucophage  Metformin Hydrochloride   \n",
       "1  0087-6063    Glucophage XR  Metformin Hydrochloride   \n",
       "2  0087-6064    Glucophage XR  Metformin Hydrochloride   \n",
       "3  0087-6070       Glucophage  Metformin Hydrochloride   \n",
       "4  0087-6071       Glucophage  Metformin Hydrochloride   \n",
       "\n",
       "                Dosage Form Route Name                  Company Name  \\\n",
       "0       Tablet, Film Coated       Oral  Bristol-myers Squibb Company   \n",
       "1  Tablet, Extended Release       Oral  Bristol-myers Squibb Company   \n",
       "2  Tablet, Extended Release       Oral  Bristol-myers Squibb Company   \n",
       "3       Tablet, Film Coated       Oral  Bristol-myers Squibb Company   \n",
       "4       Tablet, Film Coated       Oral  Bristol-myers Squibb Company   \n",
       "\n",
       "              Product Type  \n",
       "0  Human Prescription Drug  \n",
       "1  Human Prescription Drug  \n",
       "2  Human Prescription Drug  \n",
       "3  Human Prescription Drug  \n",
       "4  Human Prescription Drug  "
      ]
     },
     "execution_count": 8,
     "metadata": {},
     "output_type": "execute_result"
    }
   ],
   "source": [
    "ndc_code_df.head()"
   ]
  },
  {
   "cell_type": "code",
   "execution_count": 6,
   "metadata": {},
   "outputs": [],
   "source": [
    "from student_utils import reduce_dimension_ndc"
   ]
  },
  {
   "cell_type": "code",
   "execution_count": 7,
   "metadata": {},
   "outputs": [],
   "source": [
    "reduce_dim_df = reduce_dimension_ndc(df, ndc_code_df)"
   ]
  },
  {
   "cell_type": "code",
   "execution_count": 11,
   "metadata": {},
   "outputs": [
    {
     "data": {
      "text/html": [
       "<div>\n",
       "<style scoped>\n",
       "    .dataframe tbody tr th:only-of-type {\n",
       "        vertical-align: middle;\n",
       "    }\n",
       "\n",
       "    .dataframe tbody tr th {\n",
       "        vertical-align: top;\n",
       "    }\n",
       "\n",
       "    .dataframe thead th {\n",
       "        text-align: right;\n",
       "    }\n",
       "</style>\n",
       "<table border=\"1\" class=\"dataframe\">\n",
       "  <thead>\n",
       "    <tr style=\"text-align: right;\">\n",
       "      <th></th>\n",
       "      <th>encounter_id</th>\n",
       "      <th>patient_nbr</th>\n",
       "      <th>race</th>\n",
       "      <th>gender</th>\n",
       "      <th>age</th>\n",
       "      <th>weight</th>\n",
       "      <th>admission_type_id</th>\n",
       "      <th>discharge_disposition_id</th>\n",
       "      <th>admission_source_id</th>\n",
       "      <th>time_in_hospital</th>\n",
       "      <th>payer_code</th>\n",
       "      <th>medical_specialty</th>\n",
       "      <th>primary_diagnosis_code</th>\n",
       "      <th>other_diagnosis_codes</th>\n",
       "      <th>number_outpatient</th>\n",
       "      <th>number_inpatient</th>\n",
       "      <th>number_emergency</th>\n",
       "      <th>num_lab_procedures</th>\n",
       "      <th>number_diagnoses</th>\n",
       "      <th>num_medications</th>\n",
       "      <th>num_procedures</th>\n",
       "      <th>ndc_code</th>\n",
       "      <th>max_glu_serum</th>\n",
       "      <th>A1Cresult</th>\n",
       "      <th>change</th>\n",
       "      <th>readmitted</th>\n",
       "      <th>generic_drug_name</th>\n",
       "    </tr>\n",
       "  </thead>\n",
       "  <tbody>\n",
       "    <tr>\n",
       "      <th>0</th>\n",
       "      <td>2278392</td>\n",
       "      <td>8222157</td>\n",
       "      <td>Caucasian</td>\n",
       "      <td>Female</td>\n",
       "      <td>[0-10)</td>\n",
       "      <td>?</td>\n",
       "      <td>6</td>\n",
       "      <td>25</td>\n",
       "      <td>1</td>\n",
       "      <td>1</td>\n",
       "      <td>?</td>\n",
       "      <td>Pediatrics-Endocrinology</td>\n",
       "      <td>250.83</td>\n",
       "      <td>?|?</td>\n",
       "      <td>0</td>\n",
       "      <td>0</td>\n",
       "      <td>0</td>\n",
       "      <td>41</td>\n",
       "      <td>1</td>\n",
       "      <td>1</td>\n",
       "      <td>0</td>\n",
       "      <td>NaN</td>\n",
       "      <td>None</td>\n",
       "      <td>None</td>\n",
       "      <td>No</td>\n",
       "      <td>NO</td>\n",
       "      <td>Metformin Hydrochloride</td>\n",
       "    </tr>\n",
       "    <tr>\n",
       "      <th>1</th>\n",
       "      <td>149190</td>\n",
       "      <td>55629189</td>\n",
       "      <td>Caucasian</td>\n",
       "      <td>Female</td>\n",
       "      <td>[10-20)</td>\n",
       "      <td>?</td>\n",
       "      <td>1</td>\n",
       "      <td>1</td>\n",
       "      <td>7</td>\n",
       "      <td>3</td>\n",
       "      <td>?</td>\n",
       "      <td>?</td>\n",
       "      <td>276</td>\n",
       "      <td>250.01|255</td>\n",
       "      <td>0</td>\n",
       "      <td>0</td>\n",
       "      <td>0</td>\n",
       "      <td>59</td>\n",
       "      <td>9</td>\n",
       "      <td>18</td>\n",
       "      <td>0</td>\n",
       "      <td>68071-1701</td>\n",
       "      <td>None</td>\n",
       "      <td>None</td>\n",
       "      <td>Ch</td>\n",
       "      <td>&gt;30</td>\n",
       "      <td>Metformin Hydrochloride</td>\n",
       "    </tr>\n",
       "    <tr>\n",
       "      <th>2</th>\n",
       "      <td>64410</td>\n",
       "      <td>86047875</td>\n",
       "      <td>AfricanAmerican</td>\n",
       "      <td>Female</td>\n",
       "      <td>[20-30)</td>\n",
       "      <td>?</td>\n",
       "      <td>1</td>\n",
       "      <td>1</td>\n",
       "      <td>7</td>\n",
       "      <td>2</td>\n",
       "      <td>?</td>\n",
       "      <td>?</td>\n",
       "      <td>648</td>\n",
       "      <td>250|V27</td>\n",
       "      <td>2</td>\n",
       "      <td>1</td>\n",
       "      <td>0</td>\n",
       "      <td>11</td>\n",
       "      <td>6</td>\n",
       "      <td>13</td>\n",
       "      <td>5</td>\n",
       "      <td>0378-1110</td>\n",
       "      <td>None</td>\n",
       "      <td>None</td>\n",
       "      <td>No</td>\n",
       "      <td>NO</td>\n",
       "      <td>Metformin Hydrochloride</td>\n",
       "    </tr>\n",
       "    <tr>\n",
       "      <th>3</th>\n",
       "      <td>500364</td>\n",
       "      <td>82442376</td>\n",
       "      <td>Caucasian</td>\n",
       "      <td>Male</td>\n",
       "      <td>[30-40)</td>\n",
       "      <td>?</td>\n",
       "      <td>1</td>\n",
       "      <td>1</td>\n",
       "      <td>7</td>\n",
       "      <td>2</td>\n",
       "      <td>?</td>\n",
       "      <td>?</td>\n",
       "      <td>8</td>\n",
       "      <td>250.43|403</td>\n",
       "      <td>0</td>\n",
       "      <td>0</td>\n",
       "      <td>0</td>\n",
       "      <td>44</td>\n",
       "      <td>7</td>\n",
       "      <td>16</td>\n",
       "      <td>1</td>\n",
       "      <td>68071-1701</td>\n",
       "      <td>None</td>\n",
       "      <td>None</td>\n",
       "      <td>Ch</td>\n",
       "      <td>NO</td>\n",
       "      <td>Metformin Hydrochloride</td>\n",
       "    </tr>\n",
       "    <tr>\n",
       "      <th>4</th>\n",
       "      <td>16680</td>\n",
       "      <td>42519267</td>\n",
       "      <td>Caucasian</td>\n",
       "      <td>Male</td>\n",
       "      <td>[40-50)</td>\n",
       "      <td>?</td>\n",
       "      <td>1</td>\n",
       "      <td>1</td>\n",
       "      <td>7</td>\n",
       "      <td>1</td>\n",
       "      <td>?</td>\n",
       "      <td>?</td>\n",
       "      <td>197</td>\n",
       "      <td>157|250</td>\n",
       "      <td>0</td>\n",
       "      <td>0</td>\n",
       "      <td>0</td>\n",
       "      <td>51</td>\n",
       "      <td>5</td>\n",
       "      <td>8</td>\n",
       "      <td>0</td>\n",
       "      <td>0049-4110</td>\n",
       "      <td>None</td>\n",
       "      <td>None</td>\n",
       "      <td>Ch</td>\n",
       "      <td>NO</td>\n",
       "      <td>Metformin Hydrochloride</td>\n",
       "    </tr>\n",
       "  </tbody>\n",
       "</table>\n",
       "</div>"
      ],
      "text/plain": [
       "   encounter_id  patient_nbr             race  gender      age weight  \\\n",
       "0       2278392      8222157        Caucasian  Female   [0-10)      ?   \n",
       "1        149190     55629189        Caucasian  Female  [10-20)      ?   \n",
       "2         64410     86047875  AfricanAmerican  Female  [20-30)      ?   \n",
       "3        500364     82442376        Caucasian    Male  [30-40)      ?   \n",
       "4         16680     42519267        Caucasian    Male  [40-50)      ?   \n",
       "\n",
       "   admission_type_id  discharge_disposition_id  admission_source_id  \\\n",
       "0                  6                        25                    1   \n",
       "1                  1                         1                    7   \n",
       "2                  1                         1                    7   \n",
       "3                  1                         1                    7   \n",
       "4                  1                         1                    7   \n",
       "\n",
       "   time_in_hospital payer_code         medical_specialty  \\\n",
       "0                 1          ?  Pediatrics-Endocrinology   \n",
       "1                 3          ?                         ?   \n",
       "2                 2          ?                         ?   \n",
       "3                 2          ?                         ?   \n",
       "4                 1          ?                         ?   \n",
       "\n",
       "  primary_diagnosis_code other_diagnosis_codes  number_outpatient  \\\n",
       "0                 250.83                   ?|?                  0   \n",
       "1                    276            250.01|255                  0   \n",
       "2                    648               250|V27                  2   \n",
       "3                      8            250.43|403                  0   \n",
       "4                    197               157|250                  0   \n",
       "\n",
       "   number_inpatient  number_emergency  num_lab_procedures  number_diagnoses  \\\n",
       "0                 0                 0                  41                 1   \n",
       "1                 0                 0                  59                 9   \n",
       "2                 1                 0                  11                 6   \n",
       "3                 0                 0                  44                 7   \n",
       "4                 0                 0                  51                 5   \n",
       "\n",
       "   num_medications  num_procedures    ndc_code max_glu_serum A1Cresult change  \\\n",
       "0                1               0         NaN          None      None     No   \n",
       "1               18               0  68071-1701          None      None     Ch   \n",
       "2               13               5   0378-1110          None      None     No   \n",
       "3               16               1  68071-1701          None      None     Ch   \n",
       "4                8               0   0049-4110          None      None     Ch   \n",
       "\n",
       "  readmitted        generic_drug_name  \n",
       "0         NO  Metformin Hydrochloride  \n",
       "1        >30  Metformin Hydrochloride  \n",
       "2         NO  Metformin Hydrochloride  \n",
       "3         NO  Metformin Hydrochloride  \n",
       "4         NO  Metformin Hydrochloride  "
      ]
     },
     "execution_count": 11,
     "metadata": {},
     "output_type": "execute_result"
    }
   ],
   "source": [
    "reduce_dim_df.head()"
   ]
  },
  {
   "cell_type": "code",
   "execution_count": 12,
   "metadata": {},
   "outputs": [],
   "source": [
    "# Number of unique values should be less for the new output field\n",
    "assert df['ndc_code'].nunique() > reduce_dim_df['generic_drug_name'].nunique()"
   ]
  },
  {
   "cell_type": "markdown",
   "metadata": {},
   "source": [
    "## Select First Encounter for each Patient "
   ]
  },
  {
   "cell_type": "markdown",
   "metadata": {},
   "source": [
    "**Question 4**: In order to simplify the aggregation of data for the model, we will only select the first encounter for each patient in the dataset. This is to reduce the risk of data leakage of future patient encounters and to reduce complexity of the data transformation and modeling steps. We will assume that sorting in numerical order on the encounter_id provides the time horizon for determining which encounters come before and after another."
   ]
  },
  {
   "cell_type": "code",
   "execution_count": 8,
   "metadata": {},
   "outputs": [],
   "source": [
    "from student_utils import select_first_encounter"
   ]
  },
  {
   "cell_type": "code",
   "execution_count": 9,
   "metadata": {},
   "outputs": [],
   "source": [
    "first_encounter_df = select_first_encounter(reduce_dim_df)"
   ]
  },
  {
   "cell_type": "code",
   "execution_count": 15,
   "metadata": {},
   "outputs": [
    {
     "data": {
      "text/html": [
       "<div>\n",
       "<style scoped>\n",
       "    .dataframe tbody tr th:only-of-type {\n",
       "        vertical-align: middle;\n",
       "    }\n",
       "\n",
       "    .dataframe tbody tr th {\n",
       "        vertical-align: top;\n",
       "    }\n",
       "\n",
       "    .dataframe thead th {\n",
       "        text-align: right;\n",
       "    }\n",
       "</style>\n",
       "<table border=\"1\" class=\"dataframe\">\n",
       "  <thead>\n",
       "    <tr style=\"text-align: right;\">\n",
       "      <th></th>\n",
       "      <th>encounter_id</th>\n",
       "      <th>patient_nbr</th>\n",
       "      <th>race</th>\n",
       "      <th>gender</th>\n",
       "      <th>age</th>\n",
       "      <th>weight</th>\n",
       "      <th>admission_type_id</th>\n",
       "      <th>discharge_disposition_id</th>\n",
       "      <th>admission_source_id</th>\n",
       "      <th>time_in_hospital</th>\n",
       "      <th>payer_code</th>\n",
       "      <th>medical_specialty</th>\n",
       "      <th>primary_diagnosis_code</th>\n",
       "      <th>other_diagnosis_codes</th>\n",
       "      <th>number_outpatient</th>\n",
       "      <th>number_inpatient</th>\n",
       "      <th>number_emergency</th>\n",
       "      <th>num_lab_procedures</th>\n",
       "      <th>number_diagnoses</th>\n",
       "      <th>num_medications</th>\n",
       "      <th>num_procedures</th>\n",
       "      <th>ndc_code</th>\n",
       "      <th>max_glu_serum</th>\n",
       "      <th>A1Cresult</th>\n",
       "      <th>change</th>\n",
       "      <th>readmitted</th>\n",
       "      <th>generic_drug_name</th>\n",
       "    </tr>\n",
       "  </thead>\n",
       "  <tbody>\n",
       "    <tr>\n",
       "      <th>12</th>\n",
       "      <td>12522</td>\n",
       "      <td>48330783</td>\n",
       "      <td>Caucasian</td>\n",
       "      <td>Female</td>\n",
       "      <td>[80-90)</td>\n",
       "      <td>?</td>\n",
       "      <td>2</td>\n",
       "      <td>1</td>\n",
       "      <td>4</td>\n",
       "      <td>13</td>\n",
       "      <td>?</td>\n",
       "      <td>?</td>\n",
       "      <td>398</td>\n",
       "      <td>427|38</td>\n",
       "      <td>0</td>\n",
       "      <td>0</td>\n",
       "      <td>0</td>\n",
       "      <td>68</td>\n",
       "      <td>8</td>\n",
       "      <td>28</td>\n",
       "      <td>2</td>\n",
       "      <td>47918-902</td>\n",
       "      <td>None</td>\n",
       "      <td>None</td>\n",
       "      <td>Ch</td>\n",
       "      <td>NO</td>\n",
       "      <td>Glyburide And Metformin Hydrochloride</td>\n",
       "    </tr>\n",
       "    <tr>\n",
       "      <th>14</th>\n",
       "      <td>15738</td>\n",
       "      <td>63555939</td>\n",
       "      <td>Caucasian</td>\n",
       "      <td>Female</td>\n",
       "      <td>[90-100)</td>\n",
       "      <td>?</td>\n",
       "      <td>3</td>\n",
       "      <td>3</td>\n",
       "      <td>4</td>\n",
       "      <td>12</td>\n",
       "      <td>?</td>\n",
       "      <td>InternalMedicine</td>\n",
       "      <td>434</td>\n",
       "      <td>198|486</td>\n",
       "      <td>0</td>\n",
       "      <td>0</td>\n",
       "      <td>0</td>\n",
       "      <td>33</td>\n",
       "      <td>8</td>\n",
       "      <td>18</td>\n",
       "      <td>3</td>\n",
       "      <td>68071-1701</td>\n",
       "      <td>None</td>\n",
       "      <td>None</td>\n",
       "      <td>Ch</td>\n",
       "      <td>NO</td>\n",
       "      <td>Glyburide And Metformin Hydrochloride</td>\n",
       "    </tr>\n",
       "    <tr>\n",
       "      <th>4</th>\n",
       "      <td>16680</td>\n",
       "      <td>42519267</td>\n",
       "      <td>Caucasian</td>\n",
       "      <td>Male</td>\n",
       "      <td>[40-50)</td>\n",
       "      <td>?</td>\n",
       "      <td>1</td>\n",
       "      <td>1</td>\n",
       "      <td>7</td>\n",
       "      <td>1</td>\n",
       "      <td>?</td>\n",
       "      <td>?</td>\n",
       "      <td>197</td>\n",
       "      <td>157|250</td>\n",
       "      <td>0</td>\n",
       "      <td>0</td>\n",
       "      <td>0</td>\n",
       "      <td>51</td>\n",
       "      <td>5</td>\n",
       "      <td>8</td>\n",
       "      <td>0</td>\n",
       "      <td>0049-4110</td>\n",
       "      <td>None</td>\n",
       "      <td>None</td>\n",
       "      <td>Ch</td>\n",
       "      <td>NO</td>\n",
       "      <td>Metformin Hydrochloride</td>\n",
       "    </tr>\n",
       "    <tr>\n",
       "      <th>15</th>\n",
       "      <td>28236</td>\n",
       "      <td>89869032</td>\n",
       "      <td>AfricanAmerican</td>\n",
       "      <td>Female</td>\n",
       "      <td>[40-50)</td>\n",
       "      <td>?</td>\n",
       "      <td>1</td>\n",
       "      <td>1</td>\n",
       "      <td>7</td>\n",
       "      <td>9</td>\n",
       "      <td>?</td>\n",
       "      <td>?</td>\n",
       "      <td>250.7</td>\n",
       "      <td>403|996</td>\n",
       "      <td>0</td>\n",
       "      <td>0</td>\n",
       "      <td>0</td>\n",
       "      <td>47</td>\n",
       "      <td>9</td>\n",
       "      <td>17</td>\n",
       "      <td>2</td>\n",
       "      <td>68071-1701</td>\n",
       "      <td>None</td>\n",
       "      <td>None</td>\n",
       "      <td>No</td>\n",
       "      <td>&gt;30</td>\n",
       "      <td>Metformin Hydrochloride</td>\n",
       "    </tr>\n",
       "    <tr>\n",
       "      <th>6</th>\n",
       "      <td>35754</td>\n",
       "      <td>82637451</td>\n",
       "      <td>Caucasian</td>\n",
       "      <td>Male</td>\n",
       "      <td>[50-60)</td>\n",
       "      <td>?</td>\n",
       "      <td>2</td>\n",
       "      <td>1</td>\n",
       "      <td>2</td>\n",
       "      <td>3</td>\n",
       "      <td>?</td>\n",
       "      <td>?</td>\n",
       "      <td>414</td>\n",
       "      <td>411|250</td>\n",
       "      <td>0</td>\n",
       "      <td>0</td>\n",
       "      <td>0</td>\n",
       "      <td>31</td>\n",
       "      <td>9</td>\n",
       "      <td>16</td>\n",
       "      <td>6</td>\n",
       "      <td>47918-902</td>\n",
       "      <td>None</td>\n",
       "      <td>None</td>\n",
       "      <td>No</td>\n",
       "      <td>&gt;30</td>\n",
       "      <td>Metformin Hydrochloride</td>\n",
       "    </tr>\n",
       "  </tbody>\n",
       "</table>\n",
       "</div>"
      ],
      "text/plain": [
       "    encounter_id  patient_nbr             race  gender       age weight  \\\n",
       "12         12522     48330783        Caucasian  Female   [80-90)      ?   \n",
       "14         15738     63555939        Caucasian  Female  [90-100)      ?   \n",
       "4          16680     42519267        Caucasian    Male   [40-50)      ?   \n",
       "15         28236     89869032  AfricanAmerican  Female   [40-50)      ?   \n",
       "6          35754     82637451        Caucasian    Male   [50-60)      ?   \n",
       "\n",
       "    admission_type_id  discharge_disposition_id  admission_source_id  \\\n",
       "12                  2                         1                    4   \n",
       "14                  3                         3                    4   \n",
       "4                   1                         1                    7   \n",
       "15                  1                         1                    7   \n",
       "6                   2                         1                    2   \n",
       "\n",
       "    time_in_hospital payer_code medical_specialty primary_diagnosis_code  \\\n",
       "12                13          ?                 ?                    398   \n",
       "14                12          ?  InternalMedicine                    434   \n",
       "4                  1          ?                 ?                    197   \n",
       "15                 9          ?                 ?                  250.7   \n",
       "6                  3          ?                 ?                    414   \n",
       "\n",
       "   other_diagnosis_codes  number_outpatient  number_inpatient  \\\n",
       "12                427|38                  0                 0   \n",
       "14               198|486                  0                 0   \n",
       "4                157|250                  0                 0   \n",
       "15               403|996                  0                 0   \n",
       "6                411|250                  0                 0   \n",
       "\n",
       "    number_emergency  num_lab_procedures  number_diagnoses  num_medications  \\\n",
       "12                 0                  68                 8               28   \n",
       "14                 0                  33                 8               18   \n",
       "4                  0                  51                 5                8   \n",
       "15                 0                  47                 9               17   \n",
       "6                  0                  31                 9               16   \n",
       "\n",
       "    num_procedures    ndc_code max_glu_serum A1Cresult change readmitted  \\\n",
       "12               2   47918-902          None      None     Ch         NO   \n",
       "14               3  68071-1701          None      None     Ch         NO   \n",
       "4                0   0049-4110          None      None     Ch         NO   \n",
       "15               2  68071-1701          None      None     No        >30   \n",
       "6                6   47918-902          None      None     No        >30   \n",
       "\n",
       "                        generic_drug_name  \n",
       "12  Glyburide And Metformin Hydrochloride  \n",
       "14  Glyburide And Metformin Hydrochloride  \n",
       "4                 Metformin Hydrochloride  \n",
       "15                Metformin Hydrochloride  \n",
       "6                 Metformin Hydrochloride  "
      ]
     },
     "execution_count": 15,
     "metadata": {},
     "output_type": "execute_result"
    }
   ],
   "source": [
    "first_encounter_df.head()"
   ]
  },
  {
   "cell_type": "code",
   "execution_count": 10,
   "metadata": {},
   "outputs": [
    {
     "data": {
      "text/plain": [
       "71518"
      ]
     },
     "execution_count": 10,
     "metadata": {},
     "output_type": "execute_result"
    }
   ],
   "source": [
    "first_encounter_df['encounter_id'].nunique()"
   ]
  },
  {
   "cell_type": "code",
   "execution_count": 17,
   "metadata": {},
   "outputs": [
    {
     "name": "stdout",
     "output_type": "stream",
     "text": [
      "Number of unique patients:71518\n",
      "Number of unique encounters:71518\n",
      "Tests passed!!\n"
     ]
    }
   ],
   "source": [
    "# unique patients in transformed dataset\n",
    "unique_patients = first_encounter_df['patient_nbr'].nunique()\n",
    "print(\"Number of unique patients:{}\".format(unique_patients))\n",
    "\n",
    "# unique encounters in transformed dataset\n",
    "unique_encounters = first_encounter_df['encounter_id'].nunique()\n",
    "print(\"Number of unique encounters:{}\".format(unique_encounters))\n",
    "\n",
    "original_unique_patient_number = reduce_dim_df['patient_nbr'].nunique()\n",
    "# number of unique patients should be equal to the number of unique encounters and patients in the final dataset\n",
    "assert original_unique_patient_number == unique_patients\n",
    "assert original_unique_patient_number == unique_encounters\n",
    "print(\"Tests passed!!\")"
   ]
  },
  {
   "cell_type": "markdown",
   "metadata": {},
   "source": [
    "## Aggregate Dataset to Right Level for Modeling "
   ]
  },
  {
   "cell_type": "markdown",
   "metadata": {},
   "source": [
    "In order to provide a broad scope of the steps and to prevent students from getting stuck with data transformations, we have selected the aggregation columns and provided a function to build the dataset at the appropriate level. The 'aggregate_dataset\" function that you can find in the 'utils.py' file can take the preceding dataframe with the 'generic_drug_name' field and transform the data appropriately for the project. \n",
    "\n",
    "To make it simpler for students, we are creating dummy columns for each unique generic drug name and adding those are input features to the model. There are other options for data representation but this is out of scope for the time constraints of the course."
   ]
  },
  {
   "cell_type": "code",
   "execution_count": 10,
   "metadata": {},
   "outputs": [
    {
     "name": "stderr",
     "output_type": "stream",
     "text": [
      "/home/workspace/starter_code/utils.py:10: FutureWarning: Indexing with multiple keys (implicitly converted to a tuple of keys) will be deprecated, use a list instead.\n",
      "  array_field].apply(lambda x: x[array_field].values.tolist()).reset_index().rename(columns={\n"
     ]
    }
   ],
   "source": [
    "exclusion_list = ['generic_drug_name']\n",
    "grouping_field_list = [c for c in first_encounter_df.columns if c not in exclusion_list]\n",
    "agg_drug_df, ndc_col_list = aggregate_dataset(first_encounter_df, grouping_field_list, 'generic_drug_name')"
   ]
  },
  {
   "cell_type": "code",
   "execution_count": 11,
   "metadata": {},
   "outputs": [],
   "source": [
    "assert len(agg_drug_df) == agg_drug_df['patient_nbr'].nunique() == agg_drug_df['encounter_id'].nunique()"
   ]
  },
  {
   "cell_type": "code",
   "execution_count": 12,
   "metadata": {},
   "outputs": [
    {
     "data": {
      "text/html": [
       "<div>\n",
       "<style scoped>\n",
       "    .dataframe tbody tr th:only-of-type {\n",
       "        vertical-align: middle;\n",
       "    }\n",
       "\n",
       "    .dataframe tbody tr th {\n",
       "        vertical-align: top;\n",
       "    }\n",
       "\n",
       "    .dataframe thead th {\n",
       "        text-align: right;\n",
       "    }\n",
       "</style>\n",
       "<table border=\"1\" class=\"dataframe\">\n",
       "  <thead>\n",
       "    <tr style=\"text-align: right;\">\n",
       "      <th></th>\n",
       "      <th>encounter_id</th>\n",
       "      <th>patient_nbr</th>\n",
       "      <th>race</th>\n",
       "      <th>gender</th>\n",
       "      <th>age</th>\n",
       "      <th>weight</th>\n",
       "      <th>admission_type_id</th>\n",
       "      <th>discharge_disposition_id</th>\n",
       "      <th>admission_source_id</th>\n",
       "      <th>time_in_hospital</th>\n",
       "      <th>payer_code</th>\n",
       "      <th>medical_specialty</th>\n",
       "      <th>primary_diagnosis_code</th>\n",
       "      <th>other_diagnosis_codes</th>\n",
       "      <th>number_outpatient</th>\n",
       "      <th>number_inpatient</th>\n",
       "      <th>number_emergency</th>\n",
       "      <th>num_lab_procedures</th>\n",
       "      <th>number_diagnoses</th>\n",
       "      <th>num_medications</th>\n",
       "      <th>num_procedures</th>\n",
       "      <th>ndc_code</th>\n",
       "      <th>max_glu_serum</th>\n",
       "      <th>A1Cresult</th>\n",
       "      <th>change</th>\n",
       "      <th>readmitted</th>\n",
       "      <th>generic_drug_name_array</th>\n",
       "      <th>Acarbose</th>\n",
       "      <th>Glimepiride</th>\n",
       "      <th>Glipizide</th>\n",
       "      <th>Glipizide_And_Metformin_Hcl</th>\n",
       "      <th>Glipizide_And_Metformin_Hydrochloride</th>\n",
       "      <th>Glyburide</th>\n",
       "      <th>Glyburide_And_Metformin_Hydrochloride</th>\n",
       "      <th>Glyburide-metformin_Hydrochloride</th>\n",
       "      <th>Human_Insulin</th>\n",
       "      <th>Insulin_Human</th>\n",
       "      <th>Metformin_Hcl</th>\n",
       "      <th>Metformin_Hydrochloride</th>\n",
       "      <th>Miglitol</th>\n",
       "      <th>Nateglinide</th>\n",
       "      <th>Pioglitazole_And_Metformin_Hydrochloride</th>\n",
       "      <th>Pioglitazone</th>\n",
       "      <th>Pioglitazone_And_Glimepiride</th>\n",
       "      <th>Pioglitazone_And_Metformin</th>\n",
       "      <th>Pioglitazone_Hcl_And_Metformin_Hcl</th>\n",
       "      <th>Pioglitazone_Hydrochloride_And_Glimepiride</th>\n",
       "      <th>Repaglinide</th>\n",
       "      <th>Rosiglitazone_Maleate</th>\n",
       "      <th>Tolazamide</th>\n",
       "    </tr>\n",
       "  </thead>\n",
       "  <tbody>\n",
       "    <tr>\n",
       "      <th>0</th>\n",
       "      <td>12522</td>\n",
       "      <td>48330783</td>\n",
       "      <td>Caucasian</td>\n",
       "      <td>Female</td>\n",
       "      <td>[80-90)</td>\n",
       "      <td>?</td>\n",
       "      <td>2</td>\n",
       "      <td>1</td>\n",
       "      <td>4</td>\n",
       "      <td>13</td>\n",
       "      <td>?</td>\n",
       "      <td>?</td>\n",
       "      <td>398</td>\n",
       "      <td>427|38</td>\n",
       "      <td>0</td>\n",
       "      <td>0</td>\n",
       "      <td>0</td>\n",
       "      <td>68</td>\n",
       "      <td>8</td>\n",
       "      <td>28</td>\n",
       "      <td>2</td>\n",
       "      <td>47918-902</td>\n",
       "      <td>None</td>\n",
       "      <td>None</td>\n",
       "      <td>Ch</td>\n",
       "      <td>NO</td>\n",
       "      <td>[Glyburide And Metformin Hydrochloride]</td>\n",
       "      <td>0.0</td>\n",
       "      <td>0.0</td>\n",
       "      <td>0.0</td>\n",
       "      <td>0.0</td>\n",
       "      <td>0.0</td>\n",
       "      <td>0.0</td>\n",
       "      <td>1.0</td>\n",
       "      <td>0.0</td>\n",
       "      <td>0.0</td>\n",
       "      <td>0.0</td>\n",
       "      <td>0.0</td>\n",
       "      <td>0.0</td>\n",
       "      <td>0.0</td>\n",
       "      <td>0.0</td>\n",
       "      <td>0.0</td>\n",
       "      <td>0.0</td>\n",
       "      <td>0.0</td>\n",
       "      <td>0.0</td>\n",
       "      <td>0.0</td>\n",
       "      <td>0.0</td>\n",
       "      <td>0.0</td>\n",
       "      <td>0.0</td>\n",
       "      <td>0.0</td>\n",
       "    </tr>\n",
       "    <tr>\n",
       "      <th>1</th>\n",
       "      <td>15738</td>\n",
       "      <td>63555939</td>\n",
       "      <td>Caucasian</td>\n",
       "      <td>Female</td>\n",
       "      <td>[90-100)</td>\n",
       "      <td>?</td>\n",
       "      <td>3</td>\n",
       "      <td>3</td>\n",
       "      <td>4</td>\n",
       "      <td>12</td>\n",
       "      <td>?</td>\n",
       "      <td>InternalMedicine</td>\n",
       "      <td>434</td>\n",
       "      <td>198|486</td>\n",
       "      <td>0</td>\n",
       "      <td>0</td>\n",
       "      <td>0</td>\n",
       "      <td>33</td>\n",
       "      <td>8</td>\n",
       "      <td>18</td>\n",
       "      <td>3</td>\n",
       "      <td>68071-1701</td>\n",
       "      <td>None</td>\n",
       "      <td>None</td>\n",
       "      <td>Ch</td>\n",
       "      <td>NO</td>\n",
       "      <td>[Glyburide And Metformin Hydrochloride]</td>\n",
       "      <td>0.0</td>\n",
       "      <td>0.0</td>\n",
       "      <td>0.0</td>\n",
       "      <td>0.0</td>\n",
       "      <td>0.0</td>\n",
       "      <td>0.0</td>\n",
       "      <td>1.0</td>\n",
       "      <td>0.0</td>\n",
       "      <td>0.0</td>\n",
       "      <td>0.0</td>\n",
       "      <td>0.0</td>\n",
       "      <td>0.0</td>\n",
       "      <td>0.0</td>\n",
       "      <td>0.0</td>\n",
       "      <td>0.0</td>\n",
       "      <td>0.0</td>\n",
       "      <td>0.0</td>\n",
       "      <td>0.0</td>\n",
       "      <td>0.0</td>\n",
       "      <td>0.0</td>\n",
       "      <td>0.0</td>\n",
       "      <td>0.0</td>\n",
       "      <td>0.0</td>\n",
       "    </tr>\n",
       "    <tr>\n",
       "      <th>2</th>\n",
       "      <td>16680</td>\n",
       "      <td>42519267</td>\n",
       "      <td>Caucasian</td>\n",
       "      <td>Male</td>\n",
       "      <td>[40-50)</td>\n",
       "      <td>?</td>\n",
       "      <td>1</td>\n",
       "      <td>1</td>\n",
       "      <td>7</td>\n",
       "      <td>1</td>\n",
       "      <td>?</td>\n",
       "      <td>?</td>\n",
       "      <td>197</td>\n",
       "      <td>157|250</td>\n",
       "      <td>0</td>\n",
       "      <td>0</td>\n",
       "      <td>0</td>\n",
       "      <td>51</td>\n",
       "      <td>5</td>\n",
       "      <td>8</td>\n",
       "      <td>0</td>\n",
       "      <td>0049-4110</td>\n",
       "      <td>None</td>\n",
       "      <td>None</td>\n",
       "      <td>Ch</td>\n",
       "      <td>NO</td>\n",
       "      <td>[Metformin Hydrochloride]</td>\n",
       "      <td>0.0</td>\n",
       "      <td>0.0</td>\n",
       "      <td>0.0</td>\n",
       "      <td>0.0</td>\n",
       "      <td>0.0</td>\n",
       "      <td>0.0</td>\n",
       "      <td>0.0</td>\n",
       "      <td>0.0</td>\n",
       "      <td>0.0</td>\n",
       "      <td>0.0</td>\n",
       "      <td>0.0</td>\n",
       "      <td>1.0</td>\n",
       "      <td>0.0</td>\n",
       "      <td>0.0</td>\n",
       "      <td>0.0</td>\n",
       "      <td>0.0</td>\n",
       "      <td>0.0</td>\n",
       "      <td>0.0</td>\n",
       "      <td>0.0</td>\n",
       "      <td>0.0</td>\n",
       "      <td>0.0</td>\n",
       "      <td>0.0</td>\n",
       "      <td>0.0</td>\n",
       "    </tr>\n",
       "    <tr>\n",
       "      <th>3</th>\n",
       "      <td>28236</td>\n",
       "      <td>89869032</td>\n",
       "      <td>AfricanAmerican</td>\n",
       "      <td>Female</td>\n",
       "      <td>[40-50)</td>\n",
       "      <td>?</td>\n",
       "      <td>1</td>\n",
       "      <td>1</td>\n",
       "      <td>7</td>\n",
       "      <td>9</td>\n",
       "      <td>?</td>\n",
       "      <td>?</td>\n",
       "      <td>250.7</td>\n",
       "      <td>403|996</td>\n",
       "      <td>0</td>\n",
       "      <td>0</td>\n",
       "      <td>0</td>\n",
       "      <td>47</td>\n",
       "      <td>9</td>\n",
       "      <td>17</td>\n",
       "      <td>2</td>\n",
       "      <td>68071-1701</td>\n",
       "      <td>None</td>\n",
       "      <td>None</td>\n",
       "      <td>No</td>\n",
       "      <td>&gt;30</td>\n",
       "      <td>[Metformin Hydrochloride]</td>\n",
       "      <td>0.0</td>\n",
       "      <td>0.0</td>\n",
       "      <td>0.0</td>\n",
       "      <td>0.0</td>\n",
       "      <td>0.0</td>\n",
       "      <td>0.0</td>\n",
       "      <td>0.0</td>\n",
       "      <td>0.0</td>\n",
       "      <td>0.0</td>\n",
       "      <td>0.0</td>\n",
       "      <td>0.0</td>\n",
       "      <td>1.0</td>\n",
       "      <td>0.0</td>\n",
       "      <td>0.0</td>\n",
       "      <td>0.0</td>\n",
       "      <td>0.0</td>\n",
       "      <td>0.0</td>\n",
       "      <td>0.0</td>\n",
       "      <td>0.0</td>\n",
       "      <td>0.0</td>\n",
       "      <td>0.0</td>\n",
       "      <td>0.0</td>\n",
       "      <td>0.0</td>\n",
       "    </tr>\n",
       "    <tr>\n",
       "      <th>4</th>\n",
       "      <td>35754</td>\n",
       "      <td>82637451</td>\n",
       "      <td>Caucasian</td>\n",
       "      <td>Male</td>\n",
       "      <td>[50-60)</td>\n",
       "      <td>?</td>\n",
       "      <td>2</td>\n",
       "      <td>1</td>\n",
       "      <td>2</td>\n",
       "      <td>3</td>\n",
       "      <td>?</td>\n",
       "      <td>?</td>\n",
       "      <td>414</td>\n",
       "      <td>411|250</td>\n",
       "      <td>0</td>\n",
       "      <td>0</td>\n",
       "      <td>0</td>\n",
       "      <td>31</td>\n",
       "      <td>9</td>\n",
       "      <td>16</td>\n",
       "      <td>6</td>\n",
       "      <td>47918-902</td>\n",
       "      <td>None</td>\n",
       "      <td>None</td>\n",
       "      <td>No</td>\n",
       "      <td>&gt;30</td>\n",
       "      <td>[Metformin Hydrochloride]</td>\n",
       "      <td>0.0</td>\n",
       "      <td>0.0</td>\n",
       "      <td>0.0</td>\n",
       "      <td>0.0</td>\n",
       "      <td>0.0</td>\n",
       "      <td>0.0</td>\n",
       "      <td>0.0</td>\n",
       "      <td>0.0</td>\n",
       "      <td>0.0</td>\n",
       "      <td>0.0</td>\n",
       "      <td>0.0</td>\n",
       "      <td>1.0</td>\n",
       "      <td>0.0</td>\n",
       "      <td>0.0</td>\n",
       "      <td>0.0</td>\n",
       "      <td>0.0</td>\n",
       "      <td>0.0</td>\n",
       "      <td>0.0</td>\n",
       "      <td>0.0</td>\n",
       "      <td>0.0</td>\n",
       "      <td>0.0</td>\n",
       "      <td>0.0</td>\n",
       "      <td>0.0</td>\n",
       "    </tr>\n",
       "  </tbody>\n",
       "</table>\n",
       "</div>"
      ],
      "text/plain": [
       "   encounter_id  patient_nbr             race  gender       age weight  \\\n",
       "0         12522     48330783        Caucasian  Female   [80-90)      ?   \n",
       "1         15738     63555939        Caucasian  Female  [90-100)      ?   \n",
       "2         16680     42519267        Caucasian    Male   [40-50)      ?   \n",
       "3         28236     89869032  AfricanAmerican  Female   [40-50)      ?   \n",
       "4         35754     82637451        Caucasian    Male   [50-60)      ?   \n",
       "\n",
       "   admission_type_id  discharge_disposition_id  admission_source_id  \\\n",
       "0                  2                         1                    4   \n",
       "1                  3                         3                    4   \n",
       "2                  1                         1                    7   \n",
       "3                  1                         1                    7   \n",
       "4                  2                         1                    2   \n",
       "\n",
       "   time_in_hospital payer_code medical_specialty primary_diagnosis_code  \\\n",
       "0                13          ?                 ?                    398   \n",
       "1                12          ?  InternalMedicine                    434   \n",
       "2                 1          ?                 ?                    197   \n",
       "3                 9          ?                 ?                  250.7   \n",
       "4                 3          ?                 ?                    414   \n",
       "\n",
       "  other_diagnosis_codes  number_outpatient  number_inpatient  \\\n",
       "0                427|38                  0                 0   \n",
       "1               198|486                  0                 0   \n",
       "2               157|250                  0                 0   \n",
       "3               403|996                  0                 0   \n",
       "4               411|250                  0                 0   \n",
       "\n",
       "   number_emergency  num_lab_procedures  number_diagnoses  num_medications  \\\n",
       "0                 0                  68                 8               28   \n",
       "1                 0                  33                 8               18   \n",
       "2                 0                  51                 5                8   \n",
       "3                 0                  47                 9               17   \n",
       "4                 0                  31                 9               16   \n",
       "\n",
       "   num_procedures    ndc_code max_glu_serum A1Cresult change readmitted  \\\n",
       "0               2   47918-902          None      None     Ch         NO   \n",
       "1               3  68071-1701          None      None     Ch         NO   \n",
       "2               0   0049-4110          None      None     Ch         NO   \n",
       "3               2  68071-1701          None      None     No        >30   \n",
       "4               6   47918-902          None      None     No        >30   \n",
       "\n",
       "                   generic_drug_name_array  Acarbose  Glimepiride  Glipizide  \\\n",
       "0  [Glyburide And Metformin Hydrochloride]       0.0          0.0        0.0   \n",
       "1  [Glyburide And Metformin Hydrochloride]       0.0          0.0        0.0   \n",
       "2                [Metformin Hydrochloride]       0.0          0.0        0.0   \n",
       "3                [Metformin Hydrochloride]       0.0          0.0        0.0   \n",
       "4                [Metformin Hydrochloride]       0.0          0.0        0.0   \n",
       "\n",
       "   Glipizide_And_Metformin_Hcl  Glipizide_And_Metformin_Hydrochloride  \\\n",
       "0                          0.0                                    0.0   \n",
       "1                          0.0                                    0.0   \n",
       "2                          0.0                                    0.0   \n",
       "3                          0.0                                    0.0   \n",
       "4                          0.0                                    0.0   \n",
       "\n",
       "   Glyburide  Glyburide_And_Metformin_Hydrochloride  \\\n",
       "0        0.0                                    1.0   \n",
       "1        0.0                                    1.0   \n",
       "2        0.0                                    0.0   \n",
       "3        0.0                                    0.0   \n",
       "4        0.0                                    0.0   \n",
       "\n",
       "   Glyburide-metformin_Hydrochloride  Human_Insulin  Insulin_Human  \\\n",
       "0                                0.0            0.0            0.0   \n",
       "1                                0.0            0.0            0.0   \n",
       "2                                0.0            0.0            0.0   \n",
       "3                                0.0            0.0            0.0   \n",
       "4                                0.0            0.0            0.0   \n",
       "\n",
       "   Metformin_Hcl  Metformin_Hydrochloride  Miglitol  Nateglinide  \\\n",
       "0            0.0                      0.0       0.0          0.0   \n",
       "1            0.0                      0.0       0.0          0.0   \n",
       "2            0.0                      1.0       0.0          0.0   \n",
       "3            0.0                      1.0       0.0          0.0   \n",
       "4            0.0                      1.0       0.0          0.0   \n",
       "\n",
       "   Pioglitazole_And_Metformin_Hydrochloride  Pioglitazone  \\\n",
       "0                                       0.0           0.0   \n",
       "1                                       0.0           0.0   \n",
       "2                                       0.0           0.0   \n",
       "3                                       0.0           0.0   \n",
       "4                                       0.0           0.0   \n",
       "\n",
       "   Pioglitazone_And_Glimepiride  Pioglitazone_And_Metformin  \\\n",
       "0                           0.0                         0.0   \n",
       "1                           0.0                         0.0   \n",
       "2                           0.0                         0.0   \n",
       "3                           0.0                         0.0   \n",
       "4                           0.0                         0.0   \n",
       "\n",
       "   Pioglitazone_Hcl_And_Metformin_Hcl  \\\n",
       "0                                 0.0   \n",
       "1                                 0.0   \n",
       "2                                 0.0   \n",
       "3                                 0.0   \n",
       "4                                 0.0   \n",
       "\n",
       "   Pioglitazone_Hydrochloride_And_Glimepiride  Repaglinide  \\\n",
       "0                                         0.0          0.0   \n",
       "1                                         0.0          0.0   \n",
       "2                                         0.0          0.0   \n",
       "3                                         0.0          0.0   \n",
       "4                                         0.0          0.0   \n",
       "\n",
       "   Rosiglitazone_Maleate  Tolazamide  \n",
       "0                    0.0         0.0  \n",
       "1                    0.0         0.0  \n",
       "2                    0.0         0.0  \n",
       "3                    0.0         0.0  \n",
       "4                    0.0         0.0  "
      ]
     },
     "execution_count": 12,
     "metadata": {},
     "output_type": "execute_result"
    }
   ],
   "source": [
    "agg_drug_df.head()"
   ]
  },
  {
   "cell_type": "code",
   "execution_count": 13,
   "metadata": {},
   "outputs": [
    {
     "data": {
      "text/plain": [
       "54271"
      ]
     },
     "execution_count": 13,
     "metadata": {},
     "output_type": "execute_result"
    }
   ],
   "source": [
    "len(agg_drug_df)"
   ]
  },
  {
   "cell_type": "markdown",
   "metadata": {},
   "source": [
    "## Prepare Fields and Cast Dataset "
   ]
  },
  {
   "cell_type": "markdown",
   "metadata": {},
   "source": [
    "### Feature Selection"
   ]
  },
  {
   "cell_type": "markdown",
   "metadata": {},
   "source": [
    "**Question 5**: After you have aggregated the dataset to the right level, we can do feature selection (we will include the ndc_col_list, dummy column features too). In the block below, please select the categorical and numerical features that you will use for the model, so that we can create a dataset subset. \n",
    "\n",
    "For the payer_code and weight fields, please provide whether you think we should include/exclude the field in our model and give a justification/rationale for this based off of the statistics of the data. Feel free to use visualizations or summary statistics to support your choice."
   ]
  },
  {
   "cell_type": "markdown",
   "metadata": {},
   "source": [
    "Student response: ??"
   ]
  },
  {
   "cell_type": "code",
   "execution_count": 15,
   "metadata": {},
   "outputs": [],
   "source": [
    "agg_drug_df.to_csv('./data/agg_drug.csv')"
   ]
  },
  {
   "cell_type": "code",
   "execution_count": 16,
   "metadata": {},
   "outputs": [
    {
     "name": "stderr",
     "output_type": "stream",
     "text": [
      "/opt/conda/lib/python3.7/site-packages/tensorflow_data_validation/arrow/arrow_util.py:236: FutureWarning: Calling .data on ChunkedArray is provided for compatibility after Column was removed, simply drop this attribute\n",
      "  types.FeaturePath([column_name]), column.data.chunk(0), weights):\n"
     ]
    },
    {
     "data": {
      "text/html": [
       "<iframe id='facets-iframe' width=\"100%\" height=\"500px\"></iframe>\n",
       "        <script>\n",
       "        facets_iframe = document.getElementById('facets-iframe');\n",
       "        facets_html = '<script src=\"https://cdnjs.cloudflare.com/ajax/libs/webcomponentsjs/1.3.3/webcomponents-lite.js\"><\\/script><link rel=\"import\" href=\"https://raw.githubusercontent.com/PAIR-code/facets/master/facets-dist/facets-jupyter.html\"><facets-overview proto-input=\"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\"></facets-overview>';\n",
       "        facets_iframe.srcdoc = facets_html;\n",
       "         facets_iframe.id = \"\";\n",
       "         setTimeout(() => {\n",
       "           facets_iframe.setAttribute('height', facets_iframe.contentWindow.document.body.offsetHeight + 'px')\n",
       "         }, 1500)\n",
       "         </script>"
      ],
      "text/plain": [
       "<IPython.core.display.HTML object>"
      ]
     },
     "metadata": {},
     "output_type": "display_data"
    }
   ],
   "source": [
    "agg_drug_data_stats = tfdv.generate_statistics_from_csv(data_location='./data/agg_drug.csv') \n",
    "tfdv.visualize_statistics(agg_drug_data_stats)"
   ]
  },
  {
   "cell_type": "code",
   "execution_count": 13,
   "metadata": {},
   "outputs": [],
   "source": [
    "'''\n",
    "Please update the list to include the features you think are appropriate for the model \n",
    "and the field that we will be using to train the model. There are three required demographic features for the model \n",
    "and I have inserted a list with them already in the categorical list. \n",
    "These will be required for later steps when analyzing data splits and model biases.\n",
    "'''\n",
    "required_demo_col_list = ['race', 'gender', 'age']\n",
    "student_categorical_col_list = [ 'payer_code','medical_specialty', 'primary_diagnosis_code', 'other_diagnosis_codes' ] + required_demo_col_list + ndc_col_list\n",
    "student_numerical_col_list = [ 'admission_type_id', 'discharge_disposition_id', 'admission_source_id', 'num_lab_procedures', 'number_diagnoses', 'num_medications', 'num_procedures' ]\n",
    "PREDICTOR_FIELD = 'time_in_hospital'"
   ]
  },
  {
   "cell_type": "code",
   "execution_count": null,
   "metadata": {},
   "outputs": [],
   "source": [
    "# Answer: 'weight' has 52,296 values of 'na', which is 96% of the records, therefore, this should not be included in the model. This also applies to 'max_glu_serum' and 'A1Cresult'. 'payer_code' has a variety of unique values, although the highest value is 'na', the mixture of unique values can be important for model prediction so this column needs to be included.  "
   ]
  },
  {
   "cell_type": "code",
   "execution_count": 14,
   "metadata": {},
   "outputs": [],
   "source": [
    "def select_model_features(df, categorical_col_list, numerical_col_list, PREDICTOR_FIELD, grouping_key='patient_nbr'):\n",
    "    selected_col_list = [grouping_key] + [PREDICTOR_FIELD] + categorical_col_list + numerical_col_list   \n",
    "    return agg_drug_df[selected_col_list]\n"
   ]
  },
  {
   "cell_type": "code",
   "execution_count": 15,
   "metadata": {},
   "outputs": [],
   "source": [
    "selected_features_df = select_model_features(agg_drug_df, student_categorical_col_list, student_numerical_col_list,\n",
    "                                            PREDICTOR_FIELD)"
   ]
  },
  {
   "cell_type": "code",
   "execution_count": 27,
   "metadata": {},
   "outputs": [
    {
     "data": {
      "text/html": [
       "<div>\n",
       "<style scoped>\n",
       "    .dataframe tbody tr th:only-of-type {\n",
       "        vertical-align: middle;\n",
       "    }\n",
       "\n",
       "    .dataframe tbody tr th {\n",
       "        vertical-align: top;\n",
       "    }\n",
       "\n",
       "    .dataframe thead th {\n",
       "        text-align: right;\n",
       "    }\n",
       "</style>\n",
       "<table border=\"1\" class=\"dataframe\">\n",
       "  <thead>\n",
       "    <tr style=\"text-align: right;\">\n",
       "      <th></th>\n",
       "      <th>patient_nbr</th>\n",
       "      <th>time_in_hospital</th>\n",
       "      <th>payer_code</th>\n",
       "      <th>medical_specialty</th>\n",
       "      <th>primary_diagnosis_code</th>\n",
       "      <th>other_diagnosis_codes</th>\n",
       "      <th>race</th>\n",
       "      <th>gender</th>\n",
       "      <th>age</th>\n",
       "      <th>Acarbose</th>\n",
       "      <th>Glimepiride</th>\n",
       "      <th>Glipizide</th>\n",
       "      <th>Glipizide_And_Metformin_Hcl</th>\n",
       "      <th>Glipizide_And_Metformin_Hydrochloride</th>\n",
       "      <th>Glyburide</th>\n",
       "      <th>Glyburide_And_Metformin_Hydrochloride</th>\n",
       "      <th>Glyburide-metformin_Hydrochloride</th>\n",
       "      <th>Human_Insulin</th>\n",
       "      <th>Insulin_Human</th>\n",
       "      <th>Metformin_Hcl</th>\n",
       "      <th>Metformin_Hydrochloride</th>\n",
       "      <th>Miglitol</th>\n",
       "      <th>Nateglinide</th>\n",
       "      <th>Pioglitazole_And_Metformin_Hydrochloride</th>\n",
       "      <th>Pioglitazone</th>\n",
       "      <th>Pioglitazone_And_Glimepiride</th>\n",
       "      <th>Pioglitazone_And_Metformin</th>\n",
       "      <th>Pioglitazone_Hcl_And_Metformin_Hcl</th>\n",
       "      <th>Pioglitazone_Hydrochloride_And_Glimepiride</th>\n",
       "      <th>Repaglinide</th>\n",
       "      <th>Rosiglitazone_Maleate</th>\n",
       "      <th>Tolazamide</th>\n",
       "      <th>admission_type_id</th>\n",
       "      <th>discharge_disposition_id</th>\n",
       "      <th>admission_source_id</th>\n",
       "      <th>num_lab_procedures</th>\n",
       "      <th>number_diagnoses</th>\n",
       "      <th>num_medications</th>\n",
       "      <th>num_procedures</th>\n",
       "    </tr>\n",
       "  </thead>\n",
       "  <tbody>\n",
       "    <tr>\n",
       "      <th>0</th>\n",
       "      <td>48330783</td>\n",
       "      <td>13</td>\n",
       "      <td>?</td>\n",
       "      <td>?</td>\n",
       "      <td>398</td>\n",
       "      <td>427|38</td>\n",
       "      <td>Caucasian</td>\n",
       "      <td>Female</td>\n",
       "      <td>[80-90)</td>\n",
       "      <td>0.0</td>\n",
       "      <td>0.0</td>\n",
       "      <td>0.0</td>\n",
       "      <td>0.0</td>\n",
       "      <td>0.0</td>\n",
       "      <td>0.0</td>\n",
       "      <td>1.0</td>\n",
       "      <td>0.0</td>\n",
       "      <td>0.0</td>\n",
       "      <td>0.0</td>\n",
       "      <td>0.0</td>\n",
       "      <td>0.0</td>\n",
       "      <td>0.0</td>\n",
       "      <td>0.0</td>\n",
       "      <td>0.0</td>\n",
       "      <td>0.0</td>\n",
       "      <td>0.0</td>\n",
       "      <td>0.0</td>\n",
       "      <td>0.0</td>\n",
       "      <td>0.0</td>\n",
       "      <td>0.0</td>\n",
       "      <td>0.0</td>\n",
       "      <td>0.0</td>\n",
       "      <td>2</td>\n",
       "      <td>1</td>\n",
       "      <td>4</td>\n",
       "      <td>68</td>\n",
       "      <td>8</td>\n",
       "      <td>28</td>\n",
       "      <td>2</td>\n",
       "    </tr>\n",
       "    <tr>\n",
       "      <th>1</th>\n",
       "      <td>63555939</td>\n",
       "      <td>12</td>\n",
       "      <td>?</td>\n",
       "      <td>InternalMedicine</td>\n",
       "      <td>434</td>\n",
       "      <td>198|486</td>\n",
       "      <td>Caucasian</td>\n",
       "      <td>Female</td>\n",
       "      <td>[90-100)</td>\n",
       "      <td>0.0</td>\n",
       "      <td>0.0</td>\n",
       "      <td>0.0</td>\n",
       "      <td>0.0</td>\n",
       "      <td>0.0</td>\n",
       "      <td>0.0</td>\n",
       "      <td>1.0</td>\n",
       "      <td>0.0</td>\n",
       "      <td>0.0</td>\n",
       "      <td>0.0</td>\n",
       "      <td>0.0</td>\n",
       "      <td>0.0</td>\n",
       "      <td>0.0</td>\n",
       "      <td>0.0</td>\n",
       "      <td>0.0</td>\n",
       "      <td>0.0</td>\n",
       "      <td>0.0</td>\n",
       "      <td>0.0</td>\n",
       "      <td>0.0</td>\n",
       "      <td>0.0</td>\n",
       "      <td>0.0</td>\n",
       "      <td>0.0</td>\n",
       "      <td>0.0</td>\n",
       "      <td>3</td>\n",
       "      <td>3</td>\n",
       "      <td>4</td>\n",
       "      <td>33</td>\n",
       "      <td>8</td>\n",
       "      <td>18</td>\n",
       "      <td>3</td>\n",
       "    </tr>\n",
       "    <tr>\n",
       "      <th>2</th>\n",
       "      <td>42519267</td>\n",
       "      <td>1</td>\n",
       "      <td>?</td>\n",
       "      <td>?</td>\n",
       "      <td>197</td>\n",
       "      <td>157|250</td>\n",
       "      <td>Caucasian</td>\n",
       "      <td>Male</td>\n",
       "      <td>[40-50)</td>\n",
       "      <td>0.0</td>\n",
       "      <td>0.0</td>\n",
       "      <td>0.0</td>\n",
       "      <td>0.0</td>\n",
       "      <td>0.0</td>\n",
       "      <td>0.0</td>\n",
       "      <td>0.0</td>\n",
       "      <td>0.0</td>\n",
       "      <td>0.0</td>\n",
       "      <td>0.0</td>\n",
       "      <td>0.0</td>\n",
       "      <td>1.0</td>\n",
       "      <td>0.0</td>\n",
       "      <td>0.0</td>\n",
       "      <td>0.0</td>\n",
       "      <td>0.0</td>\n",
       "      <td>0.0</td>\n",
       "      <td>0.0</td>\n",
       "      <td>0.0</td>\n",
       "      <td>0.0</td>\n",
       "      <td>0.0</td>\n",
       "      <td>0.0</td>\n",
       "      <td>0.0</td>\n",
       "      <td>1</td>\n",
       "      <td>1</td>\n",
       "      <td>7</td>\n",
       "      <td>51</td>\n",
       "      <td>5</td>\n",
       "      <td>8</td>\n",
       "      <td>0</td>\n",
       "    </tr>\n",
       "    <tr>\n",
       "      <th>3</th>\n",
       "      <td>89869032</td>\n",
       "      <td>9</td>\n",
       "      <td>?</td>\n",
       "      <td>?</td>\n",
       "      <td>250.7</td>\n",
       "      <td>403|996</td>\n",
       "      <td>AfricanAmerican</td>\n",
       "      <td>Female</td>\n",
       "      <td>[40-50)</td>\n",
       "      <td>0.0</td>\n",
       "      <td>0.0</td>\n",
       "      <td>0.0</td>\n",
       "      <td>0.0</td>\n",
       "      <td>0.0</td>\n",
       "      <td>0.0</td>\n",
       "      <td>0.0</td>\n",
       "      <td>0.0</td>\n",
       "      <td>0.0</td>\n",
       "      <td>0.0</td>\n",
       "      <td>0.0</td>\n",
       "      <td>1.0</td>\n",
       "      <td>0.0</td>\n",
       "      <td>0.0</td>\n",
       "      <td>0.0</td>\n",
       "      <td>0.0</td>\n",
       "      <td>0.0</td>\n",
       "      <td>0.0</td>\n",
       "      <td>0.0</td>\n",
       "      <td>0.0</td>\n",
       "      <td>0.0</td>\n",
       "      <td>0.0</td>\n",
       "      <td>0.0</td>\n",
       "      <td>1</td>\n",
       "      <td>1</td>\n",
       "      <td>7</td>\n",
       "      <td>47</td>\n",
       "      <td>9</td>\n",
       "      <td>17</td>\n",
       "      <td>2</td>\n",
       "    </tr>\n",
       "    <tr>\n",
       "      <th>4</th>\n",
       "      <td>82637451</td>\n",
       "      <td>3</td>\n",
       "      <td>?</td>\n",
       "      <td>?</td>\n",
       "      <td>414</td>\n",
       "      <td>411|250</td>\n",
       "      <td>Caucasian</td>\n",
       "      <td>Male</td>\n",
       "      <td>[50-60)</td>\n",
       "      <td>0.0</td>\n",
       "      <td>0.0</td>\n",
       "      <td>0.0</td>\n",
       "      <td>0.0</td>\n",
       "      <td>0.0</td>\n",
       "      <td>0.0</td>\n",
       "      <td>0.0</td>\n",
       "      <td>0.0</td>\n",
       "      <td>0.0</td>\n",
       "      <td>0.0</td>\n",
       "      <td>0.0</td>\n",
       "      <td>1.0</td>\n",
       "      <td>0.0</td>\n",
       "      <td>0.0</td>\n",
       "      <td>0.0</td>\n",
       "      <td>0.0</td>\n",
       "      <td>0.0</td>\n",
       "      <td>0.0</td>\n",
       "      <td>0.0</td>\n",
       "      <td>0.0</td>\n",
       "      <td>0.0</td>\n",
       "      <td>0.0</td>\n",
       "      <td>0.0</td>\n",
       "      <td>2</td>\n",
       "      <td>1</td>\n",
       "      <td>2</td>\n",
       "      <td>31</td>\n",
       "      <td>9</td>\n",
       "      <td>16</td>\n",
       "      <td>6</td>\n",
       "    </tr>\n",
       "  </tbody>\n",
       "</table>\n",
       "</div>"
      ],
      "text/plain": [
       "   patient_nbr  time_in_hospital payer_code medical_specialty  \\\n",
       "0     48330783                13          ?                 ?   \n",
       "1     63555939                12          ?  InternalMedicine   \n",
       "2     42519267                 1          ?                 ?   \n",
       "3     89869032                 9          ?                 ?   \n",
       "4     82637451                 3          ?                 ?   \n",
       "\n",
       "  primary_diagnosis_code other_diagnosis_codes             race  gender  \\\n",
       "0                    398                427|38        Caucasian  Female   \n",
       "1                    434               198|486        Caucasian  Female   \n",
       "2                    197               157|250        Caucasian    Male   \n",
       "3                  250.7               403|996  AfricanAmerican  Female   \n",
       "4                    414               411|250        Caucasian    Male   \n",
       "\n",
       "        age  Acarbose  Glimepiride  Glipizide  Glipizide_And_Metformin_Hcl  \\\n",
       "0   [80-90)       0.0          0.0        0.0                          0.0   \n",
       "1  [90-100)       0.0          0.0        0.0                          0.0   \n",
       "2   [40-50)       0.0          0.0        0.0                          0.0   \n",
       "3   [40-50)       0.0          0.0        0.0                          0.0   \n",
       "4   [50-60)       0.0          0.0        0.0                          0.0   \n",
       "\n",
       "   Glipizide_And_Metformin_Hydrochloride  Glyburide  \\\n",
       "0                                    0.0        0.0   \n",
       "1                                    0.0        0.0   \n",
       "2                                    0.0        0.0   \n",
       "3                                    0.0        0.0   \n",
       "4                                    0.0        0.0   \n",
       "\n",
       "   Glyburide_And_Metformin_Hydrochloride  Glyburide-metformin_Hydrochloride  \\\n",
       "0                                    1.0                                0.0   \n",
       "1                                    1.0                                0.0   \n",
       "2                                    0.0                                0.0   \n",
       "3                                    0.0                                0.0   \n",
       "4                                    0.0                                0.0   \n",
       "\n",
       "   Human_Insulin  Insulin_Human  Metformin_Hcl  Metformin_Hydrochloride  \\\n",
       "0            0.0            0.0            0.0                      0.0   \n",
       "1            0.0            0.0            0.0                      0.0   \n",
       "2            0.0            0.0            0.0                      1.0   \n",
       "3            0.0            0.0            0.0                      1.0   \n",
       "4            0.0            0.0            0.0                      1.0   \n",
       "\n",
       "   Miglitol  Nateglinide  Pioglitazole_And_Metformin_Hydrochloride  \\\n",
       "0       0.0          0.0                                       0.0   \n",
       "1       0.0          0.0                                       0.0   \n",
       "2       0.0          0.0                                       0.0   \n",
       "3       0.0          0.0                                       0.0   \n",
       "4       0.0          0.0                                       0.0   \n",
       "\n",
       "   Pioglitazone  Pioglitazone_And_Glimepiride  Pioglitazone_And_Metformin  \\\n",
       "0           0.0                           0.0                         0.0   \n",
       "1           0.0                           0.0                         0.0   \n",
       "2           0.0                           0.0                         0.0   \n",
       "3           0.0                           0.0                         0.0   \n",
       "4           0.0                           0.0                         0.0   \n",
       "\n",
       "   Pioglitazone_Hcl_And_Metformin_Hcl  \\\n",
       "0                                 0.0   \n",
       "1                                 0.0   \n",
       "2                                 0.0   \n",
       "3                                 0.0   \n",
       "4                                 0.0   \n",
       "\n",
       "   Pioglitazone_Hydrochloride_And_Glimepiride  Repaglinide  \\\n",
       "0                                         0.0          0.0   \n",
       "1                                         0.0          0.0   \n",
       "2                                         0.0          0.0   \n",
       "3                                         0.0          0.0   \n",
       "4                                         0.0          0.0   \n",
       "\n",
       "   Rosiglitazone_Maleate  Tolazamide  admission_type_id  \\\n",
       "0                    0.0         0.0                  2   \n",
       "1                    0.0         0.0                  3   \n",
       "2                    0.0         0.0                  1   \n",
       "3                    0.0         0.0                  1   \n",
       "4                    0.0         0.0                  2   \n",
       "\n",
       "   discharge_disposition_id  admission_source_id  num_lab_procedures  \\\n",
       "0                         1                    4                  68   \n",
       "1                         3                    4                  33   \n",
       "2                         1                    7                  51   \n",
       "3                         1                    7                  47   \n",
       "4                         1                    2                  31   \n",
       "\n",
       "   number_diagnoses  num_medications  num_procedures  \n",
       "0                 8               28               2  \n",
       "1                 8               18               3  \n",
       "2                 5                8               0  \n",
       "3                 9               17               2  \n",
       "4                 9               16               6  "
      ]
     },
     "execution_count": 27,
     "metadata": {},
     "output_type": "execute_result"
    }
   ],
   "source": [
    "selected_features_df.head()"
   ]
  },
  {
   "cell_type": "markdown",
   "metadata": {},
   "source": [
    "### Preprocess Dataset - Casting and Imputing  "
   ]
  },
  {
   "cell_type": "markdown",
   "metadata": {},
   "source": [
    "We will cast and impute the dataset before splitting so that we do not have to repeat these steps across the splits in the next step. For imputing, there can be deeper analysis into which features to impute and how to impute but for the sake of time, we are taking a general strategy of imputing zero for only numerical features. \n",
    "\n",
    "OPTIONAL: What are some potential issues with this approach? Can you recommend a better way and also implement it?"
   ]
  },
  {
   "cell_type": "code",
   "execution_count": 16,
   "metadata": {},
   "outputs": [
    {
     "name": "stderr",
     "output_type": "stream",
     "text": [
      "/home/workspace/starter_code/utils.py:29: SettingWithCopyWarning: \n",
      "A value is trying to be set on a copy of a slice from a DataFrame.\n",
      "Try using .loc[row_indexer,col_indexer] = value instead\n",
      "\n",
      "See the caveats in the documentation: https://pandas.pydata.org/pandas-docs/stable/user_guide/indexing.html#returning-a-view-versus-a-copy\n",
      "  df[predictor] = df[predictor].astype(float)\n",
      "/home/workspace/starter_code/utils.py:31: SettingWithCopyWarning: \n",
      "A value is trying to be set on a copy of a slice from a DataFrame.\n",
      "Try using .loc[row_indexer,col_indexer] = value instead\n",
      "\n",
      "See the caveats in the documentation: https://pandas.pydata.org/pandas-docs/stable/user_guide/indexing.html#returning-a-view-versus-a-copy\n",
      "  df[c] = cast_df(df, c, d_type=str)\n",
      "/home/workspace/starter_code/utils.py:33: SettingWithCopyWarning: \n",
      "A value is trying to be set on a copy of a slice from a DataFrame.\n",
      "Try using .loc[row_indexer,col_indexer] = value instead\n",
      "\n",
      "See the caveats in the documentation: https://pandas.pydata.org/pandas-docs/stable/user_guide/indexing.html#returning-a-view-versus-a-copy\n",
      "  df[numerical_column] = impute_df(df, numerical_column, numerical_impute_value)\n"
     ]
    }
   ],
   "source": [
    "processed_df = preprocess_df(selected_features_df, student_categorical_col_list, \n",
    "        student_numerical_col_list, PREDICTOR_FIELD, categorical_impute_value='nan', numerical_impute_value=0)"
   ]
  },
  {
   "cell_type": "markdown",
   "metadata": {},
   "source": [
    "## Split Dataset into Train, Validation, and Test Partitions"
   ]
  },
  {
   "cell_type": "markdown",
   "metadata": {},
   "source": [
    "**Question 6**: In order to prepare the data for being trained and evaluated by a deep learning model, we will split the dataset into three partitions, with the validation partition used for optimizing the model hyperparameters during training. One of the key parts is that we need to be sure that the data does not accidently leak across partitions.\n",
    "\n",
    "Please complete the function below to split the input dataset into three partitions(train, validation, test) with the following requirements.\n",
    "- Approximately 60%/20%/20%  train/validation/test split\n",
    "- Randomly sample different patients into each data partition\n",
    "- **IMPORTANT** Make sure that a patient's data is not in more than one partition, so that we can avoid possible data leakage.\n",
    "- Make sure that the total number of unique patients across the splits is equal to the total number of unique patients in the original dataset\n",
    "- Total number of rows in original dataset = sum of rows across all three dataset partitions"
   ]
  },
  {
   "cell_type": "code",
   "execution_count": 17,
   "metadata": {},
   "outputs": [],
   "source": [
    "from student_utils import patient_dataset_splitter\n",
    "d_train, d_val, d_test = patient_dataset_splitter(processed_df, 'patient_nbr')"
   ]
  },
  {
   "cell_type": "code",
   "execution_count": 30,
   "metadata": {},
   "outputs": [
    {
     "name": "stdout",
     "output_type": "stream",
     "text": [
      "Test passed for number of total rows equal!\n"
     ]
    }
   ],
   "source": [
    "assert len(d_train) + len(d_val) + len(d_test) == len(processed_df)\n",
    "print(\"Test passed for number of total rows equal!\")"
   ]
  },
  {
   "cell_type": "code",
   "execution_count": 31,
   "metadata": {},
   "outputs": [
    {
     "name": "stdout",
     "output_type": "stream",
     "text": [
      "Test passed for number of unique patients being equal!\n"
     ]
    }
   ],
   "source": [
    "assert (d_train['patient_nbr'].nunique() + d_val['patient_nbr'].nunique() + d_test['patient_nbr'].nunique()) == agg_drug_df['patient_nbr'].nunique()\n",
    "print(\"Test passed for number of unique patients being equal!\")"
   ]
  },
  {
   "cell_type": "markdown",
   "metadata": {},
   "source": [
    "## Demographic Representation Analysis of Split"
   ]
  },
  {
   "cell_type": "markdown",
   "metadata": {},
   "source": [
    "After the split, we should check to see the distribution of key features/groups and make sure that there is representative samples across the partitions. The show_group_stats_viz function in the utils.py file can be used to group and visualize different groups and dataframe partitions."
   ]
  },
  {
   "cell_type": "markdown",
   "metadata": {},
   "source": [
    "### Label Distribution Across Partitions"
   ]
  },
  {
   "cell_type": "markdown",
   "metadata": {},
   "source": [
    "Below you can see the distributution of the label across your splits. Are the histogram distribution shapes similar across partitions?"
   ]
  },
  {
   "cell_type": "code",
   "execution_count": 45,
   "metadata": {},
   "outputs": [
    {
     "name": "stdout",
     "output_type": "stream",
     "text": [
      "time_in_hospital\n",
      "1.0     7318\n",
      "2.0     9191\n",
      "3.0     9740\n",
      "4.0     7417\n",
      "5.0     5348\n",
      "6.0     3991\n",
      "7.0     3123\n",
      "8.0     2311\n",
      "9.0     1597\n",
      "10.0    1241\n",
      "11.0    1008\n",
      "12.0     783\n",
      "13.0     663\n",
      "14.0     540\n",
      "dtype: int64\n",
      "AxesSubplot(0.125,0.125;0.775x0.755)\n"
     ]
    },
    {
     "data": {
      "image/png": "[encoded data removed]",
      "text/plain": [
       "<Figure size 432x288 with 1 Axes>"
      ]
     },
     "metadata": {
      "needs_background": "light"
     },
     "output_type": "display_data"
    }
   ],
   "source": [
    "show_group_stats_viz(processed_df, PREDICTOR_FIELD)"
   ]
  },
  {
   "cell_type": "code",
   "execution_count": 46,
   "metadata": {},
   "outputs": [
    {
     "name": "stdout",
     "output_type": "stream",
     "text": [
      "time_in_hospital\n",
      "1.0     4460\n",
      "2.0     5410\n",
      "3.0     5859\n",
      "4.0     4479\n",
      "5.0     3196\n",
      "6.0     2423\n",
      "7.0     1842\n",
      "8.0     1436\n",
      "9.0      970\n",
      "10.0     717\n",
      "11.0     620\n",
      "12.0     451\n",
      "13.0     385\n",
      "14.0     315\n",
      "dtype: int64\n",
      "AxesSubplot(0.125,0.125;0.775x0.755)\n"
     ]
    },
    {
     "data": {
      "image/png": "[encoded data removed]",
      "text/plain": [
       "<Figure size 432x288 with 1 Axes>"
      ]
     },
     "metadata": {
      "needs_background": "light"
     },
     "output_type": "display_data"
    }
   ],
   "source": [
    "show_group_stats_viz(d_train, PREDICTOR_FIELD)"
   ]
  },
  {
   "cell_type": "code",
   "execution_count": 47,
   "metadata": {},
   "outputs": [
    {
     "name": "stdout",
     "output_type": "stream",
     "text": [
      "time_in_hospital\n",
      "1.0     1504\n",
      "2.0     1872\n",
      "3.0     1925\n",
      "4.0     1464\n",
      "5.0     1091\n",
      "6.0      766\n",
      "7.0      622\n",
      "8.0      432\n",
      "9.0      325\n",
      "10.0     258\n",
      "11.0     193\n",
      "12.0     159\n",
      "13.0     138\n",
      "14.0     105\n",
      "dtype: int64\n",
      "AxesSubplot(0.125,0.125;0.775x0.755)\n"
     ]
    },
    {
     "data": {
      "image/png": "[encoded data removed]",
      "text/plain": [
       "<Figure size 432x288 with 1 Axes>"
      ]
     },
     "metadata": {
      "needs_background": "light"
     },
     "output_type": "display_data"
    }
   ],
   "source": [
    "show_group_stats_viz(d_test, PREDICTOR_FIELD)"
   ]
  },
  {
   "cell_type": "code",
   "execution_count": null,
   "metadata": {},
   "outputs": [],
   "source": [
    "# Answer: Distribution shape is similar across all partitions. "
   ]
  },
  {
   "cell_type": "markdown",
   "metadata": {},
   "source": [
    "## Demographic Group Analysis"
   ]
  },
  {
   "cell_type": "markdown",
   "metadata": {},
   "source": [
    "We should check that our partitions/splits of the dataset are similar in terms of their demographic profiles. Below you can see how we might visualize and analyze the full dataset vs. the partitions."
   ]
  },
  {
   "cell_type": "code",
   "execution_count": 48,
   "metadata": {},
   "outputs": [
    {
     "name": "stdout",
     "output_type": "stream",
     "text": [
      "gender\n",
      "Female             28572\n",
      "Male               25697\n",
      "Unknown/Invalid        2\n",
      "dtype: int64\n",
      "AxesSubplot(0.125,0.125;0.775x0.755)\n"
     ]
    },
    {
     "data": {
      "image/png": "[encoded data removed]",
      "text/plain": [
       "<Figure size 432x288 with 1 Axes>"
      ]
     },
     "metadata": {
      "needs_background": "light"
     },
     "output_type": "display_data"
    }
   ],
   "source": [
    "# Full dataset before splitting\n",
    "patient_demo_features = ['race', 'gender', 'age', 'patient_nbr']\n",
    "patient_group_analysis_df = processed_df[patient_demo_features].groupby('patient_nbr').head(1).reset_index(drop=True)\n",
    "show_group_stats_viz(patient_group_analysis_df, 'gender')"
   ]
  },
  {
   "cell_type": "code",
   "execution_count": 49,
   "metadata": {},
   "outputs": [
    {
     "name": "stdout",
     "output_type": "stream",
     "text": [
      "gender\n",
      "Female             17085\n",
      "Male               15477\n",
      "Unknown/Invalid        1\n",
      "dtype: int64\n",
      "AxesSubplot(0.125,0.125;0.775x0.755)\n"
     ]
    },
    {
     "data": {
      "image/png": "[encoded data removed]",
      "text/plain": [
       "<Figure size 432x288 with 1 Axes>"
      ]
     },
     "metadata": {
      "needs_background": "light"
     },
     "output_type": "display_data"
    }
   ],
   "source": [
    "# Training partition\n",
    "show_group_stats_viz(d_train, 'gender')"
   ]
  },
  {
   "cell_type": "code",
   "execution_count": 50,
   "metadata": {},
   "outputs": [
    {
     "name": "stdout",
     "output_type": "stream",
     "text": [
      "gender\n",
      "Female    5778\n",
      "Male      5076\n",
      "dtype: int64\n",
      "AxesSubplot(0.125,0.125;0.775x0.755)\n"
     ]
    },
    {
     "data": {
      "image/png": "[encoded data removed]",
      "text/plain": [
       "<Figure size 432x288 with 1 Axes>"
      ]
     },
     "metadata": {
      "needs_background": "light"
     },
     "output_type": "display_data"
    }
   ],
   "source": [
    "# Test partition\n",
    "show_group_stats_viz(d_test, 'gender')"
   ]
  },
  {
   "cell_type": "code",
   "execution_count": null,
   "metadata": {},
   "outputs": [],
   "source": [
    "# Answer: Data distribution for demographics is similar across all partitions taking 'gender' as an example (females percentage is higher than males). "
   ]
  },
  {
   "cell_type": "markdown",
   "metadata": {},
   "source": [
    "## Convert Dataset Splits to TF Dataset"
   ]
  },
  {
   "cell_type": "markdown",
   "metadata": {},
   "source": [
    "We have provided you the function to convert the Pandas dataframe to TF tensors using the TF Dataset API. \n",
    "Please note that this is not a scalable method and for larger datasets, the 'make_csv_dataset' method is recommended -https://www.tensorflow.org/api_docs/python/tf/data/experimental/make_csv_dataset."
   ]
  },
  {
   "cell_type": "code",
   "execution_count": 18,
   "metadata": {},
   "outputs": [],
   "source": [
    "# Convert dataset from Pandas dataframes to TF dataset \n",
    "batch_size = 128\n",
    "diabetes_train_ds = df_to_dataset(d_train, PREDICTOR_FIELD, batch_size=batch_size)\n",
    "diabetes_val_ds = df_to_dataset(d_val, PREDICTOR_FIELD, batch_size=batch_size)\n",
    "diabetes_test_ds = df_to_dataset(d_test, PREDICTOR_FIELD, batch_size=batch_size)"
   ]
  },
  {
   "cell_type": "code",
   "execution_count": 19,
   "metadata": {},
   "outputs": [],
   "source": [
    "# We use this sample of the dataset to show transformations later\n",
    "diabetes_batch = next(iter(diabetes_train_ds))[0]\n",
    "def demo(feature_column, example_batch):\n",
    "    feature_layer = layers.DenseFeatures(feature_column)\n",
    "    print(feature_layer(example_batch))      "
   ]
  },
  {
   "cell_type": "markdown",
   "metadata": {},
   "source": [
    "# 4. Create Categorical Features with TF Feature Columns"
   ]
  },
  {
   "cell_type": "markdown",
   "metadata": {},
   "source": [
    "## Build Vocabulary for Categorical Features"
   ]
  },
  {
   "cell_type": "markdown",
   "metadata": {},
   "source": [
    "Before we can create the TF categorical features, we must first create the vocab files with the unique values for a given field that are from the **training** dataset. Below we have provided a function that you can use that only requires providing the pandas train dataset partition and the list of the categorical columns in a list format. The output variable 'vocab_file_list' will be a list of the file paths that can be used in the next step for creating the categorical features."
   ]
  },
  {
   "cell_type": "code",
   "execution_count": 20,
   "metadata": {},
   "outputs": [],
   "source": [
    "vocab_file_list = build_vocab_files(d_train, student_categorical_col_list)"
   ]
  },
  {
   "cell_type": "markdown",
   "metadata": {},
   "source": [
    "## Create Categorical Features with Tensorflow Feature Column API"
   ]
  },
  {
   "cell_type": "markdown",
   "metadata": {},
   "source": [
    "**Question 7**: Using the vocab file list from above that was derived fromt the features you selected earlier, please create categorical features with the Tensorflow Feature Column API, https://www.tensorflow.org/api_docs/python/tf/feature_column. Below is a function to help guide you."
   ]
  },
  {
   "cell_type": "code",
   "execution_count": 21,
   "metadata": {},
   "outputs": [
    {
     "name": "stdout",
     "output_type": "stream",
     "text": [
      "INFO:tensorflow:vocabulary_size = 19 in payer_code is inferred from the number of elements in the vocabulary_file ./diabetes_vocab/payer_code_vocab.txt.\n",
      "INFO:tensorflow:vocabulary_size = 69 in medical_specialty is inferred from the number of elements in the vocabulary_file ./diabetes_vocab/medical_specialty_vocab.txt.\n",
      "INFO:tensorflow:vocabulary_size = 605 in primary_diagnosis_code is inferred from the number of elements in the vocabulary_file ./diabetes_vocab/primary_diagnosis_code_vocab.txt.\n",
      "INFO:tensorflow:vocabulary_size = 9455 in other_diagnosis_codes is inferred from the number of elements in the vocabulary_file ./diabetes_vocab/other_diagnosis_codes_vocab.txt.\n",
      "INFO:tensorflow:vocabulary_size = 7 in race is inferred from the number of elements in the vocabulary_file ./diabetes_vocab/race_vocab.txt.\n",
      "INFO:tensorflow:vocabulary_size = 4 in gender is inferred from the number of elements in the vocabulary_file ./diabetes_vocab/gender_vocab.txt.\n",
      "INFO:tensorflow:vocabulary_size = 11 in age is inferred from the number of elements in the vocabulary_file ./diabetes_vocab/age_vocab.txt.\n",
      "INFO:tensorflow:vocabulary_size = 4 in Acarbose is inferred from the number of elements in the vocabulary_file ./diabetes_vocab/Acarbose_vocab.txt.\n",
      "INFO:tensorflow:vocabulary_size = 4 in Glimepiride is inferred from the number of elements in the vocabulary_file ./diabetes_vocab/Glimepiride_vocab.txt.\n",
      "INFO:tensorflow:vocabulary_size = 4 in Glipizide is inferred from the number of elements in the vocabulary_file ./diabetes_vocab/Glipizide_vocab.txt.\n",
      "INFO:tensorflow:vocabulary_size = 3 in Glipizide_And_Metformin_Hcl is inferred from the number of elements in the vocabulary_file ./diabetes_vocab/Glipizide_And_Metformin_Hcl_vocab.txt.\n",
      "INFO:tensorflow:vocabulary_size = 4 in Glipizide_And_Metformin_Hydrochloride is inferred from the number of elements in the vocabulary_file ./diabetes_vocab/Glipizide_And_Metformin_Hydrochloride_vocab.txt.\n",
      "INFO:tensorflow:vocabulary_size = 4 in Glyburide is inferred from the number of elements in the vocabulary_file ./diabetes_vocab/Glyburide_vocab.txt.\n",
      "INFO:tensorflow:vocabulary_size = 4 in Glyburide_And_Metformin_Hydrochloride is inferred from the number of elements in the vocabulary_file ./diabetes_vocab/Glyburide_And_Metformin_Hydrochloride_vocab.txt.\n",
      "INFO:tensorflow:vocabulary_size = 4 in Glyburide-metformin_Hydrochloride is inferred from the number of elements in the vocabulary_file ./diabetes_vocab/Glyburide-metformin_Hydrochloride_vocab.txt.\n",
      "INFO:tensorflow:vocabulary_size = 3 in Human_Insulin is inferred from the number of elements in the vocabulary_file ./diabetes_vocab/Human_Insulin_vocab.txt.\n",
      "INFO:tensorflow:vocabulary_size = 4 in Insulin_Human is inferred from the number of elements in the vocabulary_file ./diabetes_vocab/Insulin_Human_vocab.txt.\n",
      "INFO:tensorflow:vocabulary_size = 4 in Metformin_Hcl is inferred from the number of elements in the vocabulary_file ./diabetes_vocab/Metformin_Hcl_vocab.txt.\n",
      "INFO:tensorflow:vocabulary_size = 4 in Metformin_Hydrochloride is inferred from the number of elements in the vocabulary_file ./diabetes_vocab/Metformin_Hydrochloride_vocab.txt.\n",
      "INFO:tensorflow:vocabulary_size = 4 in Miglitol is inferred from the number of elements in the vocabulary_file ./diabetes_vocab/Miglitol_vocab.txt.\n",
      "INFO:tensorflow:vocabulary_size = 4 in Nateglinide is inferred from the number of elements in the vocabulary_file ./diabetes_vocab/Nateglinide_vocab.txt.\n",
      "INFO:tensorflow:vocabulary_size = 4 in Pioglitazole_And_Metformin_Hydrochloride is inferred from the number of elements in the vocabulary_file ./diabetes_vocab/Pioglitazole_And_Metformin_Hydrochloride_vocab.txt.\n",
      "INFO:tensorflow:vocabulary_size = 4 in Pioglitazone is inferred from the number of elements in the vocabulary_file ./diabetes_vocab/Pioglitazone_vocab.txt.\n",
      "INFO:tensorflow:vocabulary_size = 3 in Pioglitazone_And_Glimepiride is inferred from the number of elements in the vocabulary_file ./diabetes_vocab/Pioglitazone_And_Glimepiride_vocab.txt.\n",
      "INFO:tensorflow:vocabulary_size = 4 in Pioglitazone_And_Metformin is inferred from the number of elements in the vocabulary_file ./diabetes_vocab/Pioglitazone_And_Metformin_vocab.txt.\n",
      "INFO:tensorflow:vocabulary_size = 3 in Pioglitazone_Hcl_And_Metformin_Hcl is inferred from the number of elements in the vocabulary_file ./diabetes_vocab/Pioglitazone_Hcl_And_Metformin_Hcl_vocab.txt.\n",
      "INFO:tensorflow:vocabulary_size = 4 in Pioglitazone_Hydrochloride_And_Glimepiride is inferred from the number of elements in the vocabulary_file ./diabetes_vocab/Pioglitazone_Hydrochloride_And_Glimepiride_vocab.txt.\n",
      "INFO:tensorflow:vocabulary_size = 4 in Repaglinide is inferred from the number of elements in the vocabulary_file ./diabetes_vocab/Repaglinide_vocab.txt.\n",
      "INFO:tensorflow:vocabulary_size = 3 in Rosiglitazone_Maleate is inferred from the number of elements in the vocabulary_file ./diabetes_vocab/Rosiglitazone_Maleate_vocab.txt.\n",
      "INFO:tensorflow:vocabulary_size = 4 in Tolazamide is inferred from the number of elements in the vocabulary_file ./diabetes_vocab/Tolazamide_vocab.txt.\n"
     ]
    }
   ],
   "source": [
    "from student_utils import create_tf_categorical_feature_cols\n",
    "tf_cat_col_list = create_tf_categorical_feature_cols(student_categorical_col_list) "
   ]
  },
  {
   "cell_type": "code",
   "execution_count": 26,
   "metadata": {},
   "outputs": [
    {
     "name": "stdout",
     "output_type": "stream",
     "text": [
      "Example categorical field:\n",
      "EmbeddingColumn(categorical_column=VocabularyFileCategoricalColumn(key='payer_code', vocabulary_file='./diabetes_vocab/payer_code_vocab.txt', vocabulary_size=18, num_oov_buckets=0, dtype=tf.string, default_value=-1), dimension=10, combiner='mean', initializer=<tensorflow.python.ops.init_ops.TruncatedNormal object at 0x7f3f8531e290>, ckpt_to_load_from=None, tensor_name_in_ckpt=None, max_norm=None, trainable=True)\n",
      "tf.Tensor(\n",
      "[[ 0.36540163 -0.05685169 -0.39580017 ...  0.22575134  0.2327116\n",
      "  -0.2070371 ]\n",
      " [-0.24064204  0.18565518 -0.4516058  ...  0.1927427  -0.08131836\n",
      "   0.45935282]\n",
      " [-0.46931425 -0.42909834  0.47770682 ...  0.110781    0.46541145\n",
      "   0.6203578 ]\n",
      " ...\n",
      " [-0.24064204  0.18565518 -0.4516058  ...  0.1927427  -0.08131836\n",
      "   0.45935282]\n",
      " [-0.15567903  0.15349454 -0.4503542  ...  0.26895615  0.23936878\n",
      "   0.5297548 ]\n",
      " [-0.24064204  0.18565518 -0.4516058  ...  0.1927427  -0.08131836\n",
      "   0.45935282]], shape=(128, 10), dtype=float32)\n"
     ]
    }
   ],
   "source": [
    "test_cat_var1 = tf_cat_col_list[0]\n",
    "print(\"Example categorical field:\\n{}\".format(test_cat_var1))\n",
    "demo(test_cat_var1, diabetes_batch)   "
   ]
  },
  {
   "cell_type": "markdown",
   "metadata": {},
   "source": [
    "# 5. Create Numerical Features with TF Feature Columns"
   ]
  },
  {
   "cell_type": "markdown",
   "metadata": {},
   "source": [
    "**Question 8**: Using the TF Feature Column API(https://www.tensorflow.org/api_docs/python/tf/feature_column/), please create normalized Tensorflow numeric features for the model. Try to use the z-score normalizer function below to help as well as the 'calculate_stats_from_train_data' function."
   ]
  },
  {
   "cell_type": "code",
   "execution_count": 22,
   "metadata": {},
   "outputs": [],
   "source": [
    "from student_utils import create_tf_numeric_feature    "
   ]
  },
  {
   "cell_type": "markdown",
   "metadata": {},
   "source": [
    "For simplicity the create_tf_numerical_feature_cols function below uses the same normalizer function across all features(z-score normalization) but if you have time feel free to analyze and adapt the normalizer based off the statistical distributions. You may find this as a good resource in determining which transformation fits best for the data https://developers.google.com/machine-learning/data-prep/transform/normalization.\n"
   ]
  },
  {
   "cell_type": "code",
   "execution_count": 23,
   "metadata": {},
   "outputs": [],
   "source": [
    "def calculate_stats_from_train_data(df, col):\n",
    "    mean = df[col].describe()['mean']\n",
    "    std = df[col].describe()['std']\n",
    "    return mean, std\n",
    "\n",
    "def create_tf_numerical_feature_cols(numerical_col_list, train_df):\n",
    "    tf_numeric_col_list = []\n",
    "    for c in numerical_col_list:\n",
    "        mean, std = calculate_stats_from_train_data(train_df, c)\n",
    "        tf_numeric_feature = create_tf_numeric_feature(c, mean, std)\n",
    "        tf_numeric_col_list.append(tf_numeric_feature)\n",
    "    return tf_numeric_col_list"
   ]
  },
  {
   "cell_type": "code",
   "execution_count": 24,
   "metadata": {},
   "outputs": [],
   "source": [
    "tf_cont_col_list = create_tf_numerical_feature_cols(student_numerical_col_list, d_train)"
   ]
  },
  {
   "cell_type": "code",
   "execution_count": 40,
   "metadata": {},
   "outputs": [
    {
     "name": "stdout",
     "output_type": "stream",
     "text": [
      "Example continuous field:\n",
      "NumericColumn(key='admission_type_id', shape=(1,), default_value=(0,), dtype=tf.float64, normalizer_fn=functools.partial(<function normalize_numeric_with_zscore at 0x7fe31eee7f80>, mean=2.0899794245001995, std=1.4898708044695146))\n",
      "\n",
      "tf.Tensor(\n",
      "[[-1.]\n",
      " [ 1.]\n",
      " [-1.]\n",
      " [-1.]\n",
      " [-1.]\n",
      " [ 0.]\n",
      " [-1.]\n",
      " [ 0.]\n",
      " [-1.]\n",
      " [-1.]\n",
      " [-1.]\n",
      " [ 1.]\n",
      " [ 0.]\n",
      " [ 0.]\n",
      " [-1.]\n",
      " [ 1.]\n",
      " [-1.]\n",
      " [ 3.]\n",
      " [ 3.]\n",
      " [ 1.]\n",
      " [-1.]\n",
      " [ 1.]\n",
      " [ 0.]\n",
      " [ 0.]\n",
      " [-1.]\n",
      " [ 1.]\n",
      " [-1.]\n",
      " [ 0.]\n",
      " [-1.]\n",
      " [ 1.]\n",
      " [-1.]\n",
      " [-1.]\n",
      " [-1.]\n",
      " [-1.]\n",
      " [-1.]\n",
      " [ 0.]\n",
      " [-1.]\n",
      " [ 1.]\n",
      " [ 5.]\n",
      " [ 0.]\n",
      " [-1.]\n",
      " [ 0.]\n",
      " [-1.]\n",
      " [-1.]\n",
      " [ 0.]\n",
      " [ 0.]\n",
      " [-1.]\n",
      " [ 0.]\n",
      " [ 3.]\n",
      " [-1.]\n",
      " [ 1.]\n",
      " [-1.]\n",
      " [ 3.]\n",
      " [ 0.]\n",
      " [-1.]\n",
      " [-1.]\n",
      " [-1.]\n",
      " [ 1.]\n",
      " [ 3.]\n",
      " [ 0.]\n",
      " [-1.]\n",
      " [ 0.]\n",
      " [ 1.]\n",
      " [ 0.]\n",
      " [ 0.]\n",
      " [-1.]\n",
      " [-1.]\n",
      " [ 0.]\n",
      " [ 1.]\n",
      " [ 4.]\n",
      " [-1.]\n",
      " [ 0.]\n",
      " [ 0.]\n",
      " [-1.]\n",
      " [-1.]\n",
      " [ 1.]\n",
      " [ 1.]\n",
      " [ 0.]\n",
      " [-1.]\n",
      " [-1.]\n",
      " [-1.]\n",
      " [-1.]\n",
      " [-1.]\n",
      " [ 0.]\n",
      " [-1.]\n",
      " [-1.]\n",
      " [-1.]\n",
      " [ 3.]\n",
      " [ 1.]\n",
      " [ 0.]\n",
      " [ 0.]\n",
      " [ 3.]\n",
      " [ 1.]\n",
      " [-1.]\n",
      " [ 3.]\n",
      " [-1.]\n",
      " [-1.]\n",
      " [-1.]\n",
      " [-1.]\n",
      " [-1.]\n",
      " [-1.]\n",
      " [-1.]\n",
      " [ 0.]\n",
      " [ 0.]\n",
      " [ 0.]\n",
      " [-1.]\n",
      " [-1.]\n",
      " [ 0.]\n",
      " [-1.]\n",
      " [-1.]\n",
      " [ 0.]\n",
      " [ 0.]\n",
      " [-1.]\n",
      " [-1.]\n",
      " [-1.]\n",
      " [ 1.]\n",
      " [-1.]\n",
      " [-1.]\n",
      " [-1.]\n",
      " [ 0.]\n",
      " [ 4.]\n",
      " [-1.]\n",
      " [ 0.]\n",
      " [-1.]\n",
      " [-1.]\n",
      " [-1.]\n",
      " [-1.]\n",
      " [ 4.]], shape=(128, 1), dtype=float32)\n"
     ]
    }
   ],
   "source": [
    "test_cont_var1 = tf_cont_col_list[0]\n",
    "print(\"Example continuous field:\\n{}\\n\".format(test_cont_var1))\n",
    "demo(test_cont_var1, diabetes_batch)"
   ]
  },
  {
   "cell_type": "markdown",
   "metadata": {},
   "source": [
    "# 6. Build Deep Learning Regression Model with Sequential API and TF Probability Layers"
   ]
  },
  {
   "cell_type": "markdown",
   "metadata": {},
   "source": [
    "## Use DenseFeatures to combine features for model"
   ]
  },
  {
   "cell_type": "markdown",
   "metadata": {},
   "source": [
    "Now that we have prepared categorical and numerical features using Tensorflow's Feature Column API, we can combine them into a dense vector representation for the model. Below we will create this new input layer, which we will call 'claim_feature_layer'."
   ]
  },
  {
   "cell_type": "code",
   "execution_count": 25,
   "metadata": {},
   "outputs": [],
   "source": [
    "claim_feature_columns = tf_cat_col_list + tf_cont_col_list \n",
    "claim_feature_layer = tf.keras.layers.DenseFeatures(claim_feature_columns)"
   ]
  },
  {
   "cell_type": "markdown",
   "metadata": {},
   "source": [
    "## Build Sequential API Model from DenseFeatures and TF Probability Layers"
   ]
  },
  {
   "cell_type": "markdown",
   "metadata": {},
   "source": [
    "Below we have provided some boilerplate code for building a model that connects the Sequential API, DenseFeatures, and Tensorflow Probability layers into a deep learning model. There are many opportunities to further optimize and explore different architectures through benchmarking and testing approaches in various research papers, loss and evaluation metrics, learning curves, hyperparameter tuning, TF probability layers, etc. Feel free to modify and explore as you wish."
   ]
  },
  {
   "cell_type": "markdown",
   "metadata": {},
   "source": [
    "**OPTIONAL**: Come up with a more optimal neural network architecture and hyperparameters. Share the process in discovering the architecture and hyperparameters."
   ]
  },
  {
   "cell_type": "code",
   "execution_count": 26,
   "metadata": {},
   "outputs": [],
   "source": [
    "optimizer = tf.keras.optimizers.RMSprop(0.001)\n",
    "def build_sequential_model(feature_layer):\n",
    "    model = tf.keras.Sequential([\n",
    "        feature_layer,\n",
    "        tf.keras.layers.Dense(150, activation='relu'),\n",
    "        tf.keras.layers.Dense(75, activation='relu'),\n",
    "        tfp.layers.DenseVariational(1+1, posterior_mean_field, prior_trainable),\n",
    "        tfp.layers.DistributionLambda(\n",
    "            lambda t:tfp.distributions.Normal(loc=t[..., :1],\n",
    "                                             scale=1e-3 + tf.math.softplus(0.01 * t[...,1:])\n",
    "                                             )\n",
    "        ),\n",
    "    ])\n",
    "    return model\n",
    "\n",
    "def build_diabetes_model(train_ds, val_ds,  feature_layer,  epochs=5, loss_metric='mse'):\n",
    "    model = build_sequential_model(feature_layer)\n",
    "    model.compile(optimizer=optimizer, loss=loss_metric, metrics=[loss_metric])\n",
    "    early_stop = tf.keras.callbacks.EarlyStopping(monitor=loss_metric, patience=3)     \n",
    "    history = model.fit(train_ds, validation_data=val_ds,\n",
    "                        callbacks=[early_stop],\n",
    "                        epochs=epochs)\n",
    "    return model, history "
   ]
  },
  {
   "cell_type": "code",
   "execution_count": 27,
   "metadata": {},
   "outputs": [
    {
     "name": "stdout",
     "output_type": "stream",
     "text": [
      "Train for 255 steps, validate for 85 steps\n",
      "Epoch 1/20\n",
      "255/255 [==============================] - 16s 62ms/step - loss: 29.3196 - mse: 29.2022 - val_loss: 23.2842 - val_mse: 22.9986\n",
      "Epoch 2/20\n",
      "255/255 [==============================] - 6s 22ms/step - loss: 19.9178 - mse: 19.4567 - val_loss: 16.8273 - val_mse: 16.3532\n",
      "Epoch 3/20\n",
      "255/255 [==============================] - 5s 20ms/step - loss: 15.8580 - mse: 15.1508 - val_loss: 14.6360 - val_mse: 13.9247\n",
      "Epoch 4/20\n",
      "255/255 [==============================] - 5s 21ms/step - loss: 13.5944 - mse: 12.7928 - val_loss: 13.1404 - val_mse: 11.9348\n",
      "Epoch 5/20\n",
      "255/255 [==============================] - 6s 22ms/step - loss: 11.9600 - mse: 11.1587 - val_loss: 10.6912 - val_mse: 9.6844\n",
      "Epoch 6/20\n",
      "255/255 [==============================] - 6s 23ms/step - loss: 11.2729 - mse: 10.3468 - val_loss: 10.8680 - val_mse: 9.9037\n",
      "Epoch 7/20\n",
      "255/255 [==============================] - 6s 22ms/step - loss: 10.3221 - mse: 9.4216 - val_loss: 10.9465 - val_mse: 9.8683\n",
      "Epoch 8/20\n",
      "255/255 [==============================] - 5s 21ms/step - loss: 9.8430 - mse: 8.9419 - val_loss: 9.8693 - val_mse: 9.1385\n",
      "Epoch 9/20\n",
      "255/255 [==============================] - 5s 21ms/step - loss: 9.6134 - mse: 8.9049 - val_loss: 10.7406 - val_mse: 9.7605\n",
      "Epoch 10/20\n",
      "255/255 [==============================] - 6s 23ms/step - loss: 9.2277 - mse: 8.3086 - val_loss: 8.9363 - val_mse: 7.7917\n",
      "Epoch 11/20\n",
      "255/255 [==============================] - 6s 22ms/step - loss: 9.2452 - mse: 8.2161 - val_loss: 9.1572 - val_mse: 8.3850\n",
      "Epoch 12/20\n",
      "255/255 [==============================] - 5s 20ms/step - loss: 9.1290 - mse: 8.3974 - val_loss: 8.9414 - val_mse: 7.8180\n",
      "Epoch 13/20\n",
      "255/255 [==============================] - 5s 21ms/step - loss: 9.0244 - mse: 8.1681 - val_loss: 8.9313 - val_mse: 8.4322\n",
      "Epoch 14/20\n",
      "255/255 [==============================] - 6s 23ms/step - loss: 8.6526 - mse: 7.8338 - val_loss: 7.7424 - val_mse: 6.7804\n",
      "Epoch 15/20\n",
      "255/255 [==============================] - 5s 21ms/step - loss: 8.5335 - mse: 7.6258 - val_loss: 8.0124 - val_mse: 7.2932\n",
      "Epoch 16/20\n",
      "255/255 [==============================] - 5s 20ms/step - loss: 8.1843 - mse: 7.1603 - val_loss: 7.6870 - val_mse: 6.7054\n",
      "Epoch 17/20\n",
      "255/255 [==============================] - 5s 20ms/step - loss: 8.1110 - mse: 7.1120 - val_loss: 7.8428 - val_mse: 6.8868\n",
      "Epoch 18/20\n",
      "255/255 [==============================] - 5s 20ms/step - loss: 7.8393 - mse: 6.9176 - val_loss: 7.8774 - val_mse: 7.1564\n",
      "Epoch 19/20\n",
      "255/255 [==============================] - 5s 21ms/step - loss: 7.6742 - mse: 6.8214 - val_loss: 7.7386 - val_mse: 6.9702\n",
      "Epoch 20/20\n",
      "255/255 [==============================] - 5s 20ms/step - loss: 8.0897 - mse: 7.0912 - val_loss: 7.5386 - val_mse: 6.7782\n"
     ]
    }
   ],
   "source": [
    "diabetes_model, history = build_diabetes_model(diabetes_train_ds, diabetes_val_ds,  claim_feature_layer,  epochs=20)"
   ]
  },
  {
   "cell_type": "markdown",
   "metadata": {},
   "source": [
    "## Show Model Uncertainty Range with TF Probability"
   ]
  },
  {
   "cell_type": "markdown",
   "metadata": {},
   "source": [
    "**Question 9**: Now that we have trained a model with TF Probability layers, we can extract the mean and standard deviation for each prediction. Please fill in the answer for the m and s variables below. The code for getting the predictions is provided for you below."
   ]
  },
  {
   "cell_type": "code",
   "execution_count": 28,
   "metadata": {},
   "outputs": [],
   "source": [
    "feature_list = student_categorical_col_list + student_numerical_col_list\n",
    "diabetes_x_tst = dict(d_test[feature_list])\n",
    "diabetes_yhat = diabetes_model(diabetes_x_tst)\n",
    "preds = diabetes_model.predict(diabetes_test_ds)"
   ]
  },
  {
   "cell_type": "code",
   "execution_count": 29,
   "metadata": {},
   "outputs": [],
   "source": [
    "from student_utils import get_mean_std_from_preds\n",
    "m, s = get_mean_std_from_preds(diabetes_yhat) "
   ]
  },
  {
   "cell_type": "markdown",
   "metadata": {},
   "source": [
    "## Show Prediction Output "
   ]
  },
  {
   "cell_type": "code",
   "execution_count": 30,
   "metadata": {},
   "outputs": [],
   "source": [
    "prob_outputs = {\n",
    "    \"pred\": preds.flatten(),\n",
    "    \"actual_value\": d_test['time_in_hospital'].values,\n",
    "    \"pred_mean\": m.numpy().flatten(),\n",
    "    \"pred_std\": s.numpy().flatten()\n",
    "}\n",
    "prob_output_df = pd.DataFrame(prob_outputs)"
   ]
  },
  {
   "cell_type": "code",
   "execution_count": 31,
   "metadata": {},
   "outputs": [
    {
     "data": {
      "text/html": [
       "<div>\n",
       "<style scoped>\n",
       "    .dataframe tbody tr th:only-of-type {\n",
       "        vertical-align: middle;\n",
       "    }\n",
       "\n",
       "    .dataframe tbody tr th {\n",
       "        vertical-align: top;\n",
       "    }\n",
       "\n",
       "    .dataframe thead th {\n",
       "        text-align: right;\n",
       "    }\n",
       "</style>\n",
       "<table border=\"1\" class=\"dataframe\">\n",
       "  <thead>\n",
       "    <tr style=\"text-align: right;\">\n",
       "      <th></th>\n",
       "      <th>pred</th>\n",
       "      <th>actual_value</th>\n",
       "      <th>pred_mean</th>\n",
       "      <th>pred_std</th>\n",
       "    </tr>\n",
       "  </thead>\n",
       "  <tbody>\n",
       "    <tr>\n",
       "      <th>0</th>\n",
       "      <td>2.890485</td>\n",
       "      <td>4.0</td>\n",
       "      <td>3.233430</td>\n",
       "      <td>0.701894</td>\n",
       "    </tr>\n",
       "    <tr>\n",
       "      <th>1</th>\n",
       "      <td>4.207376</td>\n",
       "      <td>3.0</td>\n",
       "      <td>4.390826</td>\n",
       "      <td>0.703450</td>\n",
       "    </tr>\n",
       "    <tr>\n",
       "      <th>2</th>\n",
       "      <td>3.752366</td>\n",
       "      <td>9.0</td>\n",
       "      <td>6.506350</td>\n",
       "      <td>0.705971</td>\n",
       "    </tr>\n",
       "    <tr>\n",
       "      <th>3</th>\n",
       "      <td>6.517731</td>\n",
       "      <td>3.0</td>\n",
       "      <td>4.339170</td>\n",
       "      <td>0.702767</td>\n",
       "    </tr>\n",
       "    <tr>\n",
       "      <th>4</th>\n",
       "      <td>5.251286</td>\n",
       "      <td>12.0</td>\n",
       "      <td>11.033051</td>\n",
       "      <td>0.711980</td>\n",
       "    </tr>\n",
       "  </tbody>\n",
       "</table>\n",
       "</div>"
      ],
      "text/plain": [
       "       pred  actual_value  pred_mean  pred_std\n",
       "0  2.890485           4.0   3.233430  0.701894\n",
       "1  4.207376           3.0   4.390826  0.703450\n",
       "2  3.752366           9.0   6.506350  0.705971\n",
       "3  6.517731           3.0   4.339170  0.702767\n",
       "4  5.251286          12.0  11.033051  0.711980"
      ]
     },
     "execution_count": 31,
     "metadata": {},
     "output_type": "execute_result"
    }
   ],
   "source": [
    "prob_output_df.head()"
   ]
  },
  {
   "cell_type": "markdown",
   "metadata": {},
   "source": [
    "## Convert Regression Output to Classification Output for Patient Selection"
   ]
  },
  {
   "cell_type": "markdown",
   "metadata": {},
   "source": [
    "**Question 10**: Given the output predictions, convert it to a binary label for whether the patient meets the time criteria or does not (HINT: use the mean prediction numpy array). The expected output is a numpy array with a 1 or 0 based off if the prediction meets or doesnt meet the criteria."
   ]
  },
  {
   "cell_type": "code",
   "execution_count": 32,
   "metadata": {},
   "outputs": [
    {
     "name": "stdout",
     "output_type": "stream",
     "text": [
      "### Transformed to numpy: <class 'numpy.ndarray'>, shape: (10854,)\n"
     ]
    }
   ],
   "source": [
    "from student_utils import get_student_binary_prediction\n",
    "student_binary_prediction = get_student_binary_prediction(prob_output_df, 'pred_mean')"
   ]
  },
  {
   "cell_type": "markdown",
   "metadata": {},
   "source": [
    "### Add Binary Prediction to Test Dataframe"
   ]
  },
  {
   "cell_type": "markdown",
   "metadata": {},
   "source": [
    "Using the student_binary_prediction output that is a numpy array with binary labels, we can use this to add to a dataframe to better visualize and also to prepare the data for the Aequitas toolkit. The Aequitas toolkit requires that the predictions be mapped to a binary label for the predictions (called 'score' field) and the actual value (called 'label_value')."
   ]
  },
  {
   "cell_type": "code",
   "execution_count": 33,
   "metadata": {},
   "outputs": [],
   "source": [
    "def add_pred_to_test(test_df, pred_np, demo_col_list):\n",
    "    for c in demo_col_list:\n",
    "        test_df[c] = test_df[c].astype(str)\n",
    "    test_df['score'] = pred_np\n",
    "    test_df['label_value'] = test_df['time_in_hospital'].apply(lambda x: 1 if x >=5 else 0)\n",
    "    return test_df\n",
    "\n",
    "pred_test_df = add_pred_to_test(d_test, student_binary_prediction, ['race', 'gender'])"
   ]
  },
  {
   "cell_type": "code",
   "execution_count": 34,
   "metadata": {},
   "outputs": [
    {
     "data": {
      "text/html": [
       "<div>\n",
       "<style scoped>\n",
       "    .dataframe tbody tr th:only-of-type {\n",
       "        vertical-align: middle;\n",
       "    }\n",
       "\n",
       "    .dataframe tbody tr th {\n",
       "        vertical-align: top;\n",
       "    }\n",
       "\n",
       "    .dataframe thead th {\n",
       "        text-align: right;\n",
       "    }\n",
       "</style>\n",
       "<table border=\"1\" class=\"dataframe\">\n",
       "  <thead>\n",
       "    <tr style=\"text-align: right;\">\n",
       "      <th></th>\n",
       "      <th>patient_nbr</th>\n",
       "      <th>gender</th>\n",
       "      <th>race</th>\n",
       "      <th>time_in_hospital</th>\n",
       "      <th>score</th>\n",
       "      <th>label_value</th>\n",
       "    </tr>\n",
       "  </thead>\n",
       "  <tbody>\n",
       "    <tr>\n",
       "      <th>10854</th>\n",
       "      <td>39243762</td>\n",
       "      <td>Female</td>\n",
       "      <td>Caucasian</td>\n",
       "      <td>4.0</td>\n",
       "      <td>0</td>\n",
       "      <td>0</td>\n",
       "    </tr>\n",
       "    <tr>\n",
       "      <th>10855</th>\n",
       "      <td>6623370</td>\n",
       "      <td>Female</td>\n",
       "      <td>Caucasian</td>\n",
       "      <td>3.0</td>\n",
       "      <td>0</td>\n",
       "      <td>0</td>\n",
       "    </tr>\n",
       "    <tr>\n",
       "      <th>10856</th>\n",
       "      <td>1042542</td>\n",
       "      <td>Male</td>\n",
       "      <td>Caucasian</td>\n",
       "      <td>9.0</td>\n",
       "      <td>1</td>\n",
       "      <td>1</td>\n",
       "    </tr>\n",
       "    <tr>\n",
       "      <th>10857</th>\n",
       "      <td>37251756</td>\n",
       "      <td>Female</td>\n",
       "      <td>Caucasian</td>\n",
       "      <td>3.0</td>\n",
       "      <td>0</td>\n",
       "      <td>0</td>\n",
       "    </tr>\n",
       "    <tr>\n",
       "      <th>10858</th>\n",
       "      <td>41839614</td>\n",
       "      <td>Male</td>\n",
       "      <td>Caucasian</td>\n",
       "      <td>12.0</td>\n",
       "      <td>1</td>\n",
       "      <td>1</td>\n",
       "    </tr>\n",
       "  </tbody>\n",
       "</table>\n",
       "</div>"
      ],
      "text/plain": [
       "       patient_nbr  gender       race  time_in_hospital  score  label_value\n",
       "10854     39243762  Female  Caucasian               4.0      0            0\n",
       "10855      6623370  Female  Caucasian               3.0      0            0\n",
       "10856      1042542    Male  Caucasian               9.0      1            1\n",
       "10857     37251756  Female  Caucasian               3.0      0            0\n",
       "10858     41839614    Male  Caucasian              12.0      1            1"
      ]
     },
     "execution_count": 34,
     "metadata": {},
     "output_type": "execute_result"
    }
   ],
   "source": [
    "pred_test_df[['patient_nbr', 'gender', 'race', 'time_in_hospital', 'score', 'label_value']].head()"
   ]
  },
  {
   "cell_type": "markdown",
   "metadata": {},
   "source": [
    "## Model Evaluation Metrics "
   ]
  },
  {
   "cell_type": "markdown",
   "metadata": {},
   "source": [
    "**Question 11**: Now it is time to use the newly created binary labels in the 'pred_test_df' dataframe to evaluate the model with some common classification metrics. Please create a report summary of the performance of the model and be sure to give the ROC AUC, F1 score(weighted), class precision and recall scores. "
   ]
  },
  {
   "cell_type": "markdown",
   "metadata": {},
   "source": [
    "For the report please be sure to include the following three parts:\n",
    "- With a non-technical audience in mind, explain the precision-recall tradeoff in regard to how you have optimized your model.\n",
    "\n",
    "- What are some areas of improvement for future iterations?"
   ]
  },
  {
   "cell_type": "code",
   "execution_count": 35,
   "metadata": {},
   "outputs": [],
   "source": [
    "from sklearn.metrics import accuracy_score, f1_score, classification_report, roc_auc_score"
   ]
  },
  {
   "cell_type": "code",
   "execution_count": 36,
   "metadata": {},
   "outputs": [],
   "source": [
    "y_true = pred_test_df['label_value'].values \n",
    "y_pred = pred_test_df['score'].values"
   ]
  },
  {
   "cell_type": "code",
   "execution_count": 37,
   "metadata": {},
   "outputs": [
    {
     "name": "stdout",
     "output_type": "stream",
     "text": [
      "              precision    recall  f1-score   support\n",
      "\n",
      "           0       0.83      0.76      0.79      6784\n",
      "           1       0.65      0.75      0.69      4070\n",
      "\n",
      "    accuracy                           0.75     10854\n",
      "   macro avg       0.74      0.75      0.74     10854\n",
      "weighted avg       0.76      0.75      0.76     10854\n",
      "\n"
     ]
    }
   ],
   "source": [
    "print(classification_report(y_true, y_pred))"
   ]
  },
  {
   "cell_type": "code",
   "execution_count": 38,
   "metadata": {},
   "outputs": [
    {
     "data": {
      "text/plain": [
       "0.7517073704278893"
      ]
     },
     "execution_count": 38,
     "metadata": {},
     "output_type": "execute_result"
    }
   ],
   "source": [
    "roc_auc_score(y_true, y_pred)"
   ]
  },
  {
   "cell_type": "code",
   "execution_count": null,
   "metadata": {},
   "outputs": [],
   "source": [
    "# AUC, F1, precision and recall  \n",
    "# Summary: Precision is how many times an accurate prediction of a particular class occurs per a false prediction of that class. Recall is the percentage of data belonging to a particular class which the model properly predicts as belonging to that class. There is a balance between precision and recall (both between 74-76%). This balanced tradoff is based on the threshold chosen of 5, changing the threshold may tip the balance in favour of one measure and compromise the other, meaning that the model may have more precision and less recall, or vice versa.\n",
    "# For future iterations, improving model performance can be achieved by more data and deeper network architecture. \n"
   ]
  },
  {
   "cell_type": "markdown",
   "metadata": {},
   "source": [
    "# 7. Evaluating Potential Model Biases with Aequitas Toolkit"
   ]
  },
  {
   "cell_type": "markdown",
   "metadata": {},
   "source": [
    "## Prepare Data For Aequitas Bias Toolkit "
   ]
  },
  {
   "cell_type": "markdown",
   "metadata": {},
   "source": [
    "Using the gender and race fields, we will prepare the data for the Aequitas Toolkit."
   ]
  },
  {
   "cell_type": "code",
   "execution_count": 39,
   "metadata": {},
   "outputs": [
    {
     "name": "stderr",
     "output_type": "stream",
     "text": [
      "/opt/conda/lib/python3.7/site-packages/aequitas/group.py:143: SettingWithCopyWarning: \n",
      "A value is trying to be set on a copy of a slice from a DataFrame.\n",
      "Try using .loc[row_indexer,col_indexer] = value instead\n",
      "\n",
      "See the caveats in the documentation: https://pandas.pydata.org/pandas-docs/stable/user_guide/indexing.html#returning-a-view-versus-a-copy\n",
      "  df['score'] = df['score'].astype(float)\n"
     ]
    },
    {
     "name": "stdout",
     "output_type": "stream",
     "text": [
      "model_id, score_thresholds 1 {'rank_abs': [4708]}\n"
     ]
    },
    {
     "name": "stderr",
     "output_type": "stream",
     "text": [
      "/opt/conda/lib/python3.7/site-packages/aequitas/group.py:30: FutureWarning: The pandas.np module is deprecated and will be removed from pandas in a future version. Import numpy directly instead\n",
      "  divide = lambda x, y: x / y if y != 0 else pd.np.nan\n"
     ]
    }
   ],
   "source": [
    "# Aequitas\n",
    "from aequitas.preprocessing import preprocess_input_df\n",
    "from aequitas.group import Group\n",
    "from aequitas.plotting import Plot\n",
    "from aequitas.bias import Bias\n",
    "from aequitas.fairness import Fairness\n",
    "\n",
    "ae_subset_df = pred_test_df[['race', 'gender', 'score', 'label_value']]\n",
    "ae_df, _ = preprocess_input_df(ae_subset_df)\n",
    "g = Group()\n",
    "xtab, _ = g.get_crosstabs(ae_df)\n",
    "absolute_metrics = g.list_absolute_metrics(xtab)\n",
    "clean_xtab = xtab.fillna(-1)\n",
    "aqp = Plot()\n",
    "b = Bias()\n"
   ]
  },
  {
   "cell_type": "markdown",
   "metadata": {},
   "source": [
    "## Reference Group Selection"
   ]
  },
  {
   "cell_type": "markdown",
   "metadata": {},
   "source": [
    "Below we have chosen the reference group for our analysis but feel free to select another one."
   ]
  },
  {
   "cell_type": "code",
   "execution_count": 40,
   "metadata": {},
   "outputs": [
    {
     "name": "stdout",
     "output_type": "stream",
     "text": [
      "get_disparity_predefined_group()\n"
     ]
    },
    {
     "name": "stderr",
     "output_type": "stream",
     "text": [
      "/opt/conda/lib/python3.7/site-packages/aequitas/bias.py:368: FutureWarning: The pandas.np module is deprecated and will be removed from pandas in a future version. Import numpy directly instead\n",
      "  df = df.replace(pd.np.inf, fill_divbyzero)\n",
      "/opt/conda/lib/python3.7/site-packages/aequitas/fairness.py:32: FutureWarning: The pandas.np module is deprecated and will be removed from pandas in a future version. Import numpy directly instead\n",
      "  self.fair_eval = lambda tau: lambda x: pd.np.nan if pd.np.isnan(x) else \\\n",
      "/opt/conda/lib/python3.7/site-packages/aequitas/fairness.py:45: FutureWarning: The pandas.np module is deprecated and will be removed from pandas in a future version. Import numpy directly instead\n",
      "  self.high_level_pair_eval = lambda col1, col2: lambda x: pd.np.nan if (pd.np.isnan(x[col1]) and pd.np.isnan(x[col2])) \\\n"
     ]
    }
   ],
   "source": [
    "# test reference group with Caucasian Male\n",
    "bdf = b.get_disparity_predefined_groups(clean_xtab, \n",
    "                    original_df=ae_df, \n",
    "                    ref_groups_dict={'race':'Caucasian', 'gender':'Male'\n",
    "                                     }, \n",
    "                    alpha=0.05, \n",
    "                    check_significance=False)\n",
    "\n",
    "\n",
    "f = Fairness()\n",
    "fdf = f.get_group_value_fairness(bdf)"
   ]
  },
  {
   "cell_type": "markdown",
   "metadata": {},
   "source": [
    "## Race and Gender Bias Analysis for Patient Selection"
   ]
  },
  {
   "cell_type": "markdown",
   "metadata": {},
   "source": [
    "**Question 12**: For the gender and race fields, please plot two metrics that are important for patient selection below and state whether there is a significant bias in your model across any of the groups along with justification for your statement."
   ]
  },
  {
   "cell_type": "code",
   "execution_count": null,
   "metadata": {},
   "outputs": [],
   "source": [
    "# Plot two metrics\n",
    "\n",
    "# Is there significant bias in your model for either race or gender?"
   ]
  },
  {
   "cell_type": "code",
   "execution_count": 44,
   "metadata": {},
   "outputs": [
    {
     "data": {
      "image/png": "[encoded data removed]",
      "text/plain": [
       "<Figure size 1800x432 with 2 Axes>"
      ]
     },
     "metadata": {
      "needs_background": "light"
     },
     "output_type": "display_data"
    }
   ],
   "source": [
    "p = aqp.plot_group_metric_all(xtab, metrics=['tpr', 'ppr'], ncols=2)"
   ]
  },
  {
   "cell_type": "code",
   "execution_count": null,
   "metadata": {},
   "outputs": [],
   "source": [
    "# Answer: There is significant bias in race towards positive predictive rate in Caucasian. There is no significant bias in gender across both analyses."
   ]
  },
  {
   "cell_type": "markdown",
   "metadata": {},
   "source": [
    "## Fairness Analysis Example - Relative to a Reference Group "
   ]
  },
  {
   "cell_type": "markdown",
   "metadata": {},
   "source": [
    "**Question 13**: Earlier we defined our reference group and then calculated disparity metrics relative to this grouping. Please provide a visualization of the fairness evaluation for this reference group and analyze whether there is disparity."
   ]
  },
  {
   "cell_type": "code",
   "execution_count": null,
   "metadata": {},
   "outputs": [],
   "source": [
    "# Reference group fairness plot"
   ]
  },
  {
   "cell_type": "code",
   "execution_count": 42,
   "metadata": {},
   "outputs": [
    {
     "data": {
      "image/png": "[encoded data removed]",
      "text/plain": [
       "<Figure size 360x288 with 2 Axes>"
      ]
     },
     "metadata": {
      "needs_background": "light"
     },
     "output_type": "display_data"
    }
   ],
   "source": [
    "fpr_disparity = aqp.plot_disparity(bdf, group_metric='fpr_disparity', \n",
    "                                       attribute_name='race')"
   ]
  },
  {
   "cell_type": "code",
   "execution_count": null,
   "metadata": {},
   "outputs": [],
   "source": [
    "# Answer: When taking Caucasian as a reference, all race groups have less chance to be falsely identified. "
   ]
  }
 ],
 "metadata": {
  "kernelspec": {
   "display_name": "Python 3",
   "language": "python",
   "name": "python3"
  },
  "language_info": {
   "codemirror_mode": {
    "name": "ipython",
    "version": 3
   },
   "file_extension": ".py",
   "mimetype": "text/x-python",
   "name": "python",
   "nbconvert_exporter": "python",
   "pygments_lexer": "ipython3",
   "version": "3.7.6"
  }
 },
 "nbformat": 4,
 "nbformat_minor": 2
}
